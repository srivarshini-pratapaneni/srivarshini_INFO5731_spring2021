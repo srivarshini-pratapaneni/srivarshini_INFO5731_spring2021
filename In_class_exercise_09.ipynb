{
  "nbformat": 4,
  "nbformat_minor": 0,
  "metadata": {
    "kernelspec": {
      "display_name": "Python 3",
      "language": "python",
      "name": "python3"
    },
    "language_info": {
      "codemirror_mode": {
        "name": "ipython",
        "version": 3
      },
      "file_extension": ".py",
      "mimetype": "text/x-python",
      "name": "python",
      "nbconvert_exporter": "python",
      "pygments_lexer": "ipython3",
      "version": "3.8.5"
    },
    "colab": {
      "name": "In_class_exercise_09.ipynb",
      "provenance": [],
      "collapsed_sections": [],
      "toc_visible": true,
      "include_colab_link": true
    }
  },
  "cells": [
    {
      "cell_type": "markdown",
      "metadata": {
        "id": "view-in-github",
        "colab_type": "text"
      },
      "source": [
        "<a href=\"https://colab.research.google.com/github/srivarshini-pratapaneni/srivarshini_INFO5731_spring2021/blob/main/In_class_exercise_09.ipynb\" target=\"_parent\"><img src=\"https://colab.research.google.com/assets/colab-badge.svg\" alt=\"Open In Colab\"/></a>"
      ]
    },
    {
      "cell_type": "markdown",
      "metadata": {
        "id": "opn4x0WlnDLE"
      },
      "source": [
        "# **The ninth in-class-exercise (20 points in total, 4/16/2021)**"
      ]
    },
    {
      "cell_type": "markdown",
      "metadata": {
        "id": "jRN0-8t5nDLL"
      },
      "source": [
        "The purpose of the exercise is to practice different machine learning algorithms for text classification as well as the performance evaluation. In addition, you are requried to conduct *10 fold cross validation (https://scikit-learn.org/stable/modules/cross_validation.html)* in the training. \n",
        "\n",
        "The dataset can be download from here: https://github.com/unt-iialab/info5731_spring2021/blob/main/class_exercises/exercise09_datacollection.zip. The dataset contains two files train data and test data for sentiment analysis in IMDB review, it has two categories: 1 represents positive and 0 represents negative. You need to split the training data into training and validate data (80% for training and 20% for validation, https://towardsdatascience.com/train-test-split-and-cross-validation-in-python-80b61beca4b6) and perform 10 fold cross validation while training the classifier. The final trained model was final evaluated on the test data. \n",
        "\n",
        "Algorithms:\n",
        "\n",
        "(1) MultinominalNB\n",
        "\n",
        "(2) SVM \n",
        "\n",
        "(3) KNN \n",
        "\n",
        "(4) Decision tree\n",
        "\n",
        "(5) Random Forest\n",
        "\n",
        "(6) XGBoost\n",
        "\n",
        "Evaluation measurement:\n",
        "\n",
        "(1) Accuracy\n",
        "\n",
        "(2) Recall\n",
        "\n",
        "(3) Precison \n",
        "\n",
        "(4) F-1 score"
      ]
    },
    {
      "cell_type": "code",
      "metadata": {
        "colab": {
          "base_uri": "https://localhost:8080/",
          "height": 521
        },
        "id": "EvXYue3ZnDLN",
        "outputId": "04134b4d-97e8-42f7-dcc8-572426471256"
      },
      "source": [
        "# Write your code here\n",
        "import pandas as pd\n",
        "from nltk.corpus import stopwords\n",
        "from nltk.tokenize import word_tokenize  \n",
        "import re\n",
        "import nltk\n",
        "nltk.download('stopwords')\n",
        "nltk.download('punkt')\n",
        "nltk.download('wordnet')\n",
        "stop_words=stopwords.words(\"english\")\n",
        "\n",
        "#reading the training dataset\n",
        "train_df = pd.read_fwf(r\"/content/stsa-train.txt\", header = None)\n",
        "train_df = train_df.rename(columns={0: \"sentiment\", 1: \"comment\"})\n",
        "# Basic cleaning of the training data\n",
        "clean_comment=[]\n",
        "clean_text=[]\n",
        "train_df['comment'] = train_df['comment'].str.replace(r\"\\W\", \" \").str.strip()# 1.To remove special characters and punctuations\n",
        "train_df['comment']= train_df['comment'].str.replace(r'\\d+',\"\") #2.To remove Numbers\n",
        "for a in train_df['comment']:\n",
        "    splitting_words=word_tokenize(str(a))\n",
        "    for b in splitting_words:\n",
        "        if b not in stop_words: #3.Removing Stop Words\n",
        "            b=b.lower() # 4.Coverting text to lower case \n",
        "            clean_text.append(b)\n",
        "    clean_comment.append(' '.join(clean_text))\n",
        "    clean_text.clear()\n",
        "train_df['comment']=pd.DataFrame(clean_comment) #column that we would be using for further analysis\n",
        "#train_df\n",
        "#reading the testing dataset\n",
        "test_df = pd.read_fwf(r\"/content/stsa-train.txt\", header = None)\n",
        "test_df = test_df.rename(columns={0: \"sentiment\", 1: \"comment\"})\n",
        "#basic cleaning of test data\n",
        "clean_comments=[]\n",
        "clean_texts=[]\n",
        "test_df['comment'] = test_df['comment'].str.replace(r\"\\W\", \" \").str.strip()# 1.To remove special characters and punctuations\n",
        "test_df['comment']= test_df['comment'].str.replace(r'\\d+',\"\") #2.To remove Numbers\n",
        "for a in test_df['comment']:\n",
        "    splitting_words=word_tokenize(str(a))\n",
        "    for b in splitting_words:\n",
        "        if b not in stop_words: #3.Removing Stop Words\n",
        "            b=b.lower() # 4.Coverting text to lower case \n",
        "            clean_texts.append(b)\n",
        "    clean_comments.append(' '.join(clean_texts))\n",
        "    clean_texts.clear()\n",
        "test_df['comment']=pd.DataFrame(clean_comments) #column that we would be using for further analysis\n",
        "#test_df\n",
        "\n",
        "#extra columns with NAN, that were generated while reading the file, removing those columns from both the dataframe\n",
        "train_df\n"
      ],
      "execution_count": 3,
      "outputs": [
        {
          "output_type": "stream",
          "text": [
            "[nltk_data] Downloading package stopwords to /root/nltk_data...\n",
            "[nltk_data]   Package stopwords is already up-to-date!\n",
            "[nltk_data] Downloading package punkt to /root/nltk_data...\n",
            "[nltk_data]   Package punkt is already up-to-date!\n",
            "[nltk_data] Downloading package wordnet to /root/nltk_data...\n",
            "[nltk_data]   Package wordnet is already up-to-date!\n"
          ],
          "name": "stdout"
        },
        {
          "output_type": "execute_result",
          "data": {
            "text/html": [
              "<div>\n",
              "<style scoped>\n",
              "    .dataframe tbody tr th:only-of-type {\n",
              "        vertical-align: middle;\n",
              "    }\n",
              "\n",
              "    .dataframe tbody tr th {\n",
              "        vertical-align: top;\n",
              "    }\n",
              "\n",
              "    .dataframe thead th {\n",
              "        text-align: right;\n",
              "    }\n",
              "</style>\n",
              "<table border=\"1\" class=\"dataframe\">\n",
              "  <thead>\n",
              "    <tr style=\"text-align: right;\">\n",
              "      <th></th>\n",
              "      <th>sentiment</th>\n",
              "      <th>comment</th>\n",
              "      <th>2</th>\n",
              "    </tr>\n",
              "  </thead>\n",
              "  <tbody>\n",
              "    <tr>\n",
              "      <th>0</th>\n",
              "      <td>1</td>\n",
              "      <td>stirring funny finally transporting imagining ...</td>\n",
              "      <td>NaN</td>\n",
              "    </tr>\n",
              "    <tr>\n",
              "      <th>1</th>\n",
              "      <td>0</td>\n",
              "      <td>apparently reassembled cutting room floor give...</td>\n",
              "      <td>NaN</td>\n",
              "    </tr>\n",
              "    <tr>\n",
              "      <th>2</th>\n",
              "      <td>0</td>\n",
              "      <td>presume audience wo n sit still sociology less...</td>\n",
              "      <td>NaN</td>\n",
              "    </tr>\n",
              "    <tr>\n",
              "      <th>3</th>\n",
              "      <td>1</td>\n",
              "      <td>visually stunning rumination love memory histo...</td>\n",
              "      <td>NaN</td>\n",
              "    </tr>\n",
              "    <tr>\n",
              "      <th>4</th>\n",
              "      <td>1</td>\n",
              "      <td>jonathan parker bartleby end modern office ano...</td>\n",
              "      <td>NaN</td>\n",
              "    </tr>\n",
              "    <tr>\n",
              "      <th>...</th>\n",
              "      <td>...</td>\n",
              "      <td>...</td>\n",
              "      <td>...</td>\n",
              "    </tr>\n",
              "    <tr>\n",
              "      <th>6915</th>\n",
              "      <td>1</td>\n",
              "      <td>painful horrifying oppressively tragic film mi...</td>\n",
              "      <td>NaN</td>\n",
              "    </tr>\n",
              "    <tr>\n",
              "      <th>6916</th>\n",
              "      <td>0</td>\n",
              "      <td>take care nicely performed quintet actresses n...</td>\n",
              "      <td>NaN</td>\n",
              "    </tr>\n",
              "    <tr>\n",
              "      <th>6917</th>\n",
              "      <td>0</td>\n",
              "      <td>script covers huge heavy topics bland surfacey...</td>\n",
              "      <td>NaN</td>\n",
              "    </tr>\n",
              "    <tr>\n",
              "      <th>6918</th>\n",
              "      <td>0</td>\n",
              "      <td>seriously bad film seriously warped logic writ...</td>\n",
              "      <td>NaN</td>\n",
              "    </tr>\n",
              "    <tr>\n",
              "      <th>6919</th>\n",
              "      <td>1</td>\n",
              "      <td>deliciously nonsensical comedy city coming apa...</td>\n",
              "      <td>NaN</td>\n",
              "    </tr>\n",
              "  </tbody>\n",
              "</table>\n",
              "<p>6920 rows × 3 columns</p>\n",
              "</div>"
            ],
            "text/plain": [
              "      sentiment                                            comment    2\n",
              "0             1  stirring funny finally transporting imagining ...  NaN\n",
              "1             0  apparently reassembled cutting room floor give...  NaN\n",
              "2             0  presume audience wo n sit still sociology less...  NaN\n",
              "3             1  visually stunning rumination love memory histo...  NaN\n",
              "4             1  jonathan parker bartleby end modern office ano...  NaN\n",
              "...         ...                                                ...  ...\n",
              "6915          1  painful horrifying oppressively tragic film mi...  NaN\n",
              "6916          0  take care nicely performed quintet actresses n...  NaN\n",
              "6917          0  script covers huge heavy topics bland surfacey...  NaN\n",
              "6918          0  seriously bad film seriously warped logic writ...  NaN\n",
              "6919          1  deliciously nonsensical comedy city coming apa...  NaN\n",
              "\n",
              "[6920 rows x 3 columns]"
            ]
          },
          "metadata": {
            "tags": []
          },
          "execution_count": 3
        }
      ]
    },
    {
      "cell_type": "code",
      "metadata": {
        "colab": {
          "base_uri": "https://localhost:8080/"
        },
        "id": "Jf2Wd4v_ob5L",
        "outputId": "3c461bf3-4031-45c9-b9ba-b4917f5ffe2d"
      },
      "source": [
        "import sklearn\n",
        "from sklearn.model_selection import train_test_split\n",
        "x_train, x_validate, y_train, y_validate = sklearn.model_selection.train_test_split(train_df['comment'], train_df['sentiment'], train_size=0.8, test_size=0.2)\n",
        "print(\"Number of values in Train and Test data after splitting:\", x_train.shape, x_validate.shape) # shows the size of training and validation data(training is 80% and testing is 20%, there are 6920 rows)\n",
        "\n",
        "# Setting k folds for conducting cross vaildation\n",
        "from sklearn.model_selection import KFold\n",
        "k_fold = KFold(n_splits=10)"
      ],
      "execution_count": 4,
      "outputs": [
        {
          "output_type": "stream",
          "text": [
            "Number of values in Train and Test data after splitting: (5536,) (1384,)\n"
          ],
          "name": "stdout"
        }
      ]
    },
    {
      "cell_type": "code",
      "metadata": {
        "colab": {
          "base_uri": "https://localhost:8080/"
        },
        "id": "mCcGBOVPo2Px",
        "outputId": "190f5fb0-50a4-4d7b-be7a-301f29b81d66"
      },
      "source": [
        "#Algorithm 1: multinomial NB\n",
        "import numpy as np\n",
        "from sklearn.pipeline import Pipeline\n",
        "from sklearn.feature_extraction.text import CountVectorizer #for vect\n",
        "from sklearn.feature_extraction.text import TfidfTransformer #for tfidf\n",
        "from sklearn.naive_bayes import MultinomialNB # for clf\n",
        "x_train = np.array(x_train) #converting to numpy array for error handling\n",
        "y_train = np.array(y_train) #converting to numpy array for error handling\n",
        "\n",
        "# Define a pipeline combining a text feature extractor with a simple classifier\n",
        "# pipeline = pipeline: ['vect', 'tfidf', 'clf']\n",
        "pipeline = Pipeline([('vect', CountVectorizer()),('tfidf', TfidfTransformer()),('clf', MultinomialNB())])\n",
        "for train_index, test_index in k_fold.split(x_train, y_train):\n",
        "    x_train_kfold, y_train_kfold = x_train[train_index], y_train[train_index]\n",
        "    x_test_kfold, y_test_kfold = x_train[test_index], y_train[test_index]\n",
        "    multinomial_NB = pipeline.fit(x_train_kfold, y_train_kfold)\n",
        "pred_validate = multinomial_NB.predict(x_validate)\n",
        "validation = {'Actual': y_validate, 'Predicted': pred_validate}\n",
        "validation_df = pd.DataFrame(validation, columns = ['Actual', 'Predicted'])\n",
        "print('The predicted sentiments for validation data, in case of multinomial_NB are:\\n', validation_df.head())\n",
        "\n",
        "#Predicting the sentiment on test dataset\n",
        "predicted_sentiment_test = multinomial_NB.predict(test_df['comment'])\n",
        "\n",
        "# finding the Evaluation measurement: Accuracy,Recall,Precison, F-1 score\n",
        "from sklearn.metrics import f1_score, accuracy_score, precision_score, recall_score\n",
        "# Accuracy\n",
        "Multinomial_accuracy=(accuracy_score(test_df['sentiment'], predicted_sentiment_test)*100)\n",
        "print('The Accuracy of MultinomialNB is:',Multinomial_accuracy)\n",
        "# Recall\n",
        "Multinomial_NB_recall = recall_score(test_df['sentiment'], predicted_sentiment_test)\n",
        "print('The Recall score for MultinomialNB is:',Multinomial_NB_recall)\n",
        "# Precison \n",
        "Multinomial_NB_precision =  precision_score(test_df['sentiment'], predicted_sentiment_test)\n",
        "print('The Precision Score for MultinomialNB is:', Multinomial_NB_precision)\n",
        "# F-1 score\n",
        "Multinomial_NB_f1_score = (f1_score(test_df['sentiment'], predicted_sentiment_test))\n",
        "print('The f1_score for MultinomialNB is:', Multinomial_NB_f1_score)"
      ],
      "execution_count": 5,
      "outputs": [
        {
          "output_type": "stream",
          "text": [
            "The predicted sentiments for validation data, in case of multinomial_NB are:\n",
            "       Actual  Predicted\n",
            "5036       1          1\n",
            "6446       1          1\n",
            "3          1          1\n",
            "877        1          1\n",
            "2037       1          1\n",
            "The Accuracy of MultinomialNB is: 89.84104046242774\n",
            "The Recall score for MultinomialNB is: 0.9457063711911358\n",
            "The Precision Score for MultinomialNB is: 0.8706962509563887\n",
            "The f1_score for MultinomialNB is: 0.9066525029876511\n"
          ],
          "name": "stdout"
        }
      ]
    },
    {
      "cell_type": "code",
      "metadata": {
        "colab": {
          "base_uri": "https://localhost:8080/"
        },
        "id": "7SDggdgYo9z3",
        "outputId": "227c3172-2b27-4484-868e-3fad74024968"
      },
      "source": [
        "# Algorithm 2: SVM\n",
        "\n",
        "from sklearn.svm import LinearSVC # for clf\n",
        "\n",
        "# Define a pipeline combining a text feature extractor with a simple classifier\n",
        "# pipeline = pipeline: ['vect', 'tfidf', 'clf']\n",
        "pipeline = Pipeline([('vect', CountVectorizer()),('tfidf', TfidfTransformer()),('clf', LinearSVC())])\n",
        "for train_index, test_index in k_fold.split(x_train, y_train):\n",
        "    x_train_kfold, y_train_kfold = x_train[train_index], y_train[train_index]\n",
        "    x_test_kfold, y_test_kfold = x_train[test_index], y_train[test_index]\n",
        "    SVM_SVC = pipeline.fit(x_train_kfold, y_train_kfold)\n",
        "pred_validate = SVM_SVC.predict(x_validate)\n",
        "validation = {'Actual': y_validate, 'Predicted': pred_validate}\n",
        "validation_df = pd.DataFrame(validation, columns = ['Actual', 'Predicted'])\n",
        "print('The predicted sentiments for validation data in case of SVM are:\\n', validation_df.head())\n",
        "\n",
        "#Predicting the sentiment on test dataset\n",
        "predicted_sentiment_test = SVM_SVC.predict(test_df['comment'])\n",
        "\n",
        "# finding the Evaluation measurement: Accuracy,Recall,Precison, F-1 score\n",
        "from sklearn.metrics import f1_score, accuracy_score, precision_score, recall_score\n",
        "# Accuracy\n",
        "SVM_accuracy=(accuracy_score(test_df['sentiment'], predicted_sentiment_test)*100)\n",
        "print('The accuracy of SVM is:',SVM_accuracy)\n",
        "# Recall\n",
        "SVM_recall = recall_score(test_df['sentiment'], predicted_sentiment_test)\n",
        "print('The Recall score for SVM is:',SVM_recall)\n",
        "# Precison \n",
        "SVM_precision =  precision_score(test_df['sentiment'], predicted_sentiment_test)\n",
        "print('The precision Score for SVM is:', SVM_precision)\n",
        "# F-1 score\n",
        "SVM_f1_score = (f1_score(test_df['sentiment'], predicted_sentiment_test))\n",
        "print('The f1_score for SVM is:', SVM_f1_score)"
      ],
      "execution_count": 6,
      "outputs": [
        {
          "output_type": "stream",
          "text": [
            "The predicted sentiments for validation data in case of SVM are:\n",
            "       Actual  Predicted\n",
            "5036       1          0\n",
            "6446       1          1\n",
            "3          1          1\n",
            "877        1          1\n",
            "2037       1          1\n",
            "The accuracy of SVM is: 92.74566473988439\n",
            "The Recall score for SVM is: 0.9409972299168975\n",
            "The precision Score for SVM is: 0.921595225176343\n",
            "The f1_score for SVM is: 0.9311951754385965\n"
          ],
          "name": "stdout"
        }
      ]
    },
    {
      "cell_type": "code",
      "metadata": {
        "colab": {
          "base_uri": "https://localhost:8080/"
        },
        "id": "a9S6julGpLw1",
        "outputId": "a9620e52-6653-4409-8bf6-a96ec053fbe4"
      },
      "source": [
        "# Algorithm 3: KNN\n",
        "from sklearn.neighbors import KNeighborsClassifier # for clf\n",
        "\n",
        "# Define a pipeline combining a text feature extractor with a simple classifier\n",
        "# pipeline = pipeline: ['vect', 'tfidf', 'clf']\n",
        "pipeline = Pipeline([('vect', CountVectorizer()),('tfidf', TfidfTransformer()),('clf', KNeighborsClassifier())])\n",
        "for train_index, test_index in k_fold.split(x_train, y_train):\n",
        "    x_train_kfold, y_train_kfold = x_train[train_index], y_train[train_index]\n",
        "    x_test_kfold, y_test_kfold = x_train[test_index], y_train[test_index]\n",
        "    KNN = pipeline.fit(x_train_kfold, y_train_kfold)\n",
        "pred_validate = KNN.predict(x_validate)\n",
        "validation = {'Actual': y_validate, 'Predicted': pred_validate}\n",
        "validation_df = pd.DataFrame(validation, columns = ['Actual', 'Predicted'])\n",
        "print('The predicted sentiment for validation data, in case of KNN are:\\n', validation_df.head())\n",
        "\n",
        "#Predicting the sentiment on test dataset\n",
        "predicted_sentiment_test = KNN.predict(test_df['comment'])\n",
        "\n",
        "# finding the Evaluation measurement: Accuracy,Recall,Precison, F-1 score\n",
        "from sklearn.metrics import f1_score, accuracy_score, precision_score, recall_score\n",
        "# Accuracy\n",
        "KNN_accuracy=(accuracy_score(test_df['sentiment'], predicted_sentiment_test)*100)\n",
        "print('The accuracy of KNN algorithm is:',KNN_accuracy)\n",
        "# Recall\n",
        "KNN_recall = recall_score(test_df['sentiment'], predicted_sentiment_test)\n",
        "print('The Recall score for KNN algorithm is:',KNN_recall)\n",
        "# Precison \n",
        "KNN_precision =  precision_score(test_df['sentiment'], predicted_sentiment_test)\n",
        "print('The precision Score for KNN algorithm is:', KNN_precision)\n",
        "# F-1 score\n",
        "KNN_f1_score = (f1_score(test_df['sentiment'], predicted_sentiment_test))\n",
        "print('The f1_score for KNN algorithm is:', KNN_f1_score)"
      ],
      "execution_count": 7,
      "outputs": [
        {
          "output_type": "stream",
          "text": [
            "The predicted sentiment for validation data, in case of KNN are:\n",
            "       Actual  Predicted\n",
            "5036       1          0\n",
            "6446       1          0\n",
            "3          1          0\n",
            "877        1          0\n",
            "2037       1          0\n",
            "The accuracy of KNN algorithm is: 63.72832369942196\n",
            "The Recall score for KNN algorithm is: 0.3094182825484765\n",
            "The precision Score for KNN algorithm is: 0.9850088183421517\n",
            "The f1_score for KNN algorithm is: 0.4709106239460371\n"
          ],
          "name": "stdout"
        }
      ]
    },
    {
      "cell_type": "code",
      "metadata": {
        "colab": {
          "base_uri": "https://localhost:8080/"
        },
        "id": "cCYKID2ZpQSM",
        "outputId": "1c42abe7-a9e6-482c-f895-7d18a908b245"
      },
      "source": [
        "# Algorithm 4: Decision Tree\n",
        "from sklearn import tree # for clf\n",
        "\n",
        "# Define a pipeline combining a text feature extractor with a simple classifier\n",
        "# pipeline = pipeline: ['vect', 'tfidf', 'clf']\n",
        "pipeline = Pipeline([('vect', CountVectorizer()),('tfidf', TfidfTransformer()),('clf', tree.DecisionTreeClassifier())])\n",
        "for train_index, test_index in k_fold.split(x_train, y_train):\n",
        "    x_train_kfold, y_train_kfold = x_train[train_index], y_train[train_index]\n",
        "    x_test_kfold, y_test_kfold = x_train[test_index], y_train[test_index]\n",
        "    Decision_tree = pipeline.fit(x_train_kfold, y_train_kfold)\n",
        "pred_validate = Decision_tree.predict(x_validate)\n",
        "validation = {'Actual': y_validate, 'Predicted': pred_validate}\n",
        "validation_df = pd.DataFrame(validation, columns = ['Actual', 'Predicted'])\n",
        "print('The predicted sentiment for validation data,in case of Decision Tree are:\\n', validation_df.head())\n",
        "\n",
        "#Predicting the sentiment on test dataset\n",
        "predicted_sentiment_test = Decision_tree.predict(test_df['comment'])\n",
        "\n",
        "# finding the Evaluation measurement: Accuracy,Recall,Precison, F-1 score\n",
        "from sklearn.metrics import f1_score, accuracy_score, precision_score, recall_score\n",
        "# Accuracy\n",
        "Decision_tree_accuracy=(accuracy_score(test_df['sentiment'], predicted_sentiment_test)*100)\n",
        "print('The accuracy of Decision Tree algorithm is:',Decision_tree_accuracy)\n",
        "# Recall\n",
        "Decision_tree_recall = recall_score(test_df['sentiment'], predicted_sentiment_test)\n",
        "print('The Recall score for Decision Tree algorithm is:',Decision_tree_recall)\n",
        "# Precison \n",
        "Decision_tree_precision =  precision_score(test_df['sentiment'], predicted_sentiment_test)\n",
        "print('The precision Score for Decision Tree algorithm is:', Decision_tree_precision)\n",
        "# F-1 score\n",
        "Decision_tree_f1_score = (f1_score(test_df['sentiment'], predicted_sentiment_test))\n",
        "print('The f1_score for Decision Tree algorithm is:', Decision_tree_f1_score)"
      ],
      "execution_count": 8,
      "outputs": [
        {
          "output_type": "stream",
          "text": [
            "The predicted sentiment for validation data,in case of Decision Tree are:\n",
            "       Actual  Predicted\n",
            "5036       1          1\n",
            "6446       1          0\n",
            "3          1          1\n",
            "877        1          1\n",
            "2037       1          1\n",
            "The accuracy of Decision Tree algorithm is: 90.02890173410405\n",
            "The Recall score for Decision Tree algorithm is: 0.9013850415512465\n",
            "The precision Score for Decision Tree algorithm is: 0.9069119286510591\n",
            "The f1_score for Decision Tree algorithm is: 0.9041400388996944\n"
          ],
          "name": "stdout"
        }
      ]
    },
    {
      "cell_type": "code",
      "metadata": {
        "colab": {
          "base_uri": "https://localhost:8080/"
        },
        "id": "GcBeP7eupeBI",
        "outputId": "1595548f-e619-4a60-8e38-b3c8dfcb1b74"
      },
      "source": [
        "# Algorithm 4: Random Forest\n",
        "from sklearn.ensemble import RandomForestClassifier # for clf\n",
        "\n",
        "# Define a pipeline combining a text feature extractor with a simple classifier\n",
        "# pipeline = pipeline: ['vect', 'tfidf', 'clf']\n",
        "pipeline = Pipeline([('vect', CountVectorizer()),('tfidf', TfidfTransformer()),('clf', RandomForestClassifier())])\n",
        "for train_index, test_index in k_fold.split(x_train, y_train):\n",
        "    x_train_kfold, y_train_kfold = x_train[train_index], y_train[train_index]\n",
        "    x_test_kfold, y_test_kfold = x_train[test_index], y_train[test_index]\n",
        "    Random_Forest = pipeline.fit(x_train_kfold, y_train_kfold)\n",
        "pred_validate = Random_Forest.predict(x_validate)\n",
        "validation = {'Actual': y_validate, 'Predicted': pred_validate}\n",
        "validation_df = pd.DataFrame(validation, columns = ['Actual', 'Predicted'])\n",
        "print('The predicted sentiment for validation data in case of Random Forest are:\\n', validation_df.head())\n",
        "\n",
        "#Predicting the sentiment on test dataset\n",
        "predicted_sentiment_test = Random_Forest.predict(test_df['comment'])\n",
        "\n",
        "# finding the Evaluation measurement: Accuracy,Recall,Precison, F-1 score\n",
        "from sklearn.metrics import f1_score, accuracy_score, precision_score, recall_score\n",
        "# Accuracy\n",
        "Random_Forest_accuracy=(accuracy_score(test_df['sentiment'], predicted_sentiment_test)*100)\n",
        "print('The accuracy of Random Forest algorithm is:',Random_Forest_accuracy)\n",
        "# Recall\n",
        "Random_Forest_recall = recall_score(test_df['sentiment'], predicted_sentiment_test)\n",
        "print('The Recall score for Random Forest algorithm is:',Random_Forest_recall)\n",
        "# Precison \n",
        "Random_Forest_precision =  precision_score(test_df['sentiment'], predicted_sentiment_test)\n",
        "print('The precision Score for Random Forest algorithm is:', Random_Forest_precision)\n",
        "# F-1 score\n",
        "Random_Forest_f1_score = (f1_score(test_df['sentiment'], predicted_sentiment_test))\n",
        "print('The f1_score for Random Forest algorithm is:', Random_Forest_f1_score)"
      ],
      "execution_count": 9,
      "outputs": [
        {
          "output_type": "stream",
          "text": [
            "The predicted sentiment for validation data in case of Random Forest are:\n",
            "       Actual  Predicted\n",
            "5036       1          1\n",
            "6446       1          0\n",
            "3          1          1\n",
            "877        1          0\n",
            "2037       1          1\n",
            "The accuracy of Random Forest algorithm is: 92.1820809248555\n",
            "The Recall score for Random Forest algorithm is: 0.9210526315789473\n",
            "The precision Score for Random Forest algorithm is: 0.9285115889416364\n",
            "The f1_score for Random Forest algorithm is: 0.9247670699485467\n"
          ],
          "name": "stdout"
        }
      ]
    },
    {
      "cell_type": "code",
      "metadata": {
        "colab": {
          "base_uri": "https://localhost:8080/"
        },
        "id": "yzCC-QG0qEN8",
        "outputId": "7b15ed13-47ef-4a65-fdc2-a1780ef007f5"
      },
      "source": [
        "#Algorithm 6: XGBoost\n",
        "from sklearn.ensemble import GradientBoostingClassifier # for clf\n",
        "\n",
        "# Define a pipeline combining a text feature extractor with a simple classifier\n",
        "# pipeline = pipeline: ['vect', 'tfidf', 'clf']\n",
        "pipeline = Pipeline([('vect', CountVectorizer()),('tfidf', TfidfTransformer()),('clf', GradientBoostingClassifier())])\n",
        "for train_index, test_index in k_fold.split(x_train, y_train):\n",
        "    x_train_kfold, y_train_kfold = x_train[train_index], y_train[train_index]\n",
        "    x_test_kfold, y_test_kfold = x_train[test_index], y_train[test_index]\n",
        "    XGBoost = pipeline.fit(x_train_kfold, y_train_kfold)\n",
        "pred_validate = XGBoost.predict(x_validate)\n",
        "validation = {'Actual': y_validate, 'Predicted': pred_validate}\n",
        "validation_df = pd.DataFrame(validation, columns = ['Actual', 'Predicted'])\n",
        "print('The predicted sentiments for validation data, in case of XGBoost are:\\n', validation_df.head())\n",
        "\n",
        "#Predicting the sentiment on test dataset\n",
        "predicted_sentiment_test = XGBoost.predict(test_df['comment'])\n",
        "\n",
        "# finding the Evaluation measurement: Accuracy,Recall,Precison, F-1 score\n",
        "from sklearn.metrics import f1_score, accuracy_score, precision_score, recall_score\n",
        "# Accuracy\n",
        "XGBoost_accuracy=(accuracy_score(test_df['sentiment'], predicted_sentiment_test)*100)\n",
        "print('The accuracy of XGBoost algorithm is:',XGBoost_accuracy)\n",
        "# Recall\n",
        "XGBoost_recall = recall_score(test_df['sentiment'], predicted_sentiment_test)\n",
        "print('The Recall score for XGBoost algorithm is:',XGBoost_recall)\n",
        "# Precison \n",
        "XGBoost_precision =  precision_score(test_df['sentiment'], predicted_sentiment_test)\n",
        "print('The precision Score for XGBoost algorithm is:', XGBoost_precision)\n",
        "# F-1 score\n",
        "XGBoost_f1_score = (f1_score(test_df['sentiment'], predicted_sentiment_test))\n",
        "print('The f1_score for XGBoost algorithm is:', XGBoost_f1_score)"
      ],
      "execution_count": 10,
      "outputs": [
        {
          "output_type": "stream",
          "text": [
            "The predicted sentiments for validation data, in case of XGBoost are:\n",
            "       Actual  Predicted\n",
            "5036       1          1\n",
            "6446       1          1\n",
            "3          1          1\n",
            "877        1          0\n",
            "2037       1          1\n",
            "The accuracy of XGBoost algorithm is: 70.23121387283237\n",
            "The Recall score for XGBoost algorithm is: 0.8994459833795014\n",
            "The precision Score for XGBoost algorithm is: 0.6567556634304207\n",
            "The f1_score for XGBoost algorithm is: 0.7591769932195463\n"
          ],
          "name": "stdout"
        }
      ]
    },
    {
      "cell_type": "code",
      "metadata": {
        "colab": {
          "base_uri": "https://localhost:8080/",
          "height": 296
        },
        "id": "v43gbuhZqTYs",
        "outputId": "57b48ae5-4107-4eff-840e-cf96e3683ea7"
      },
      "source": [
        "#comparing the algorithms accuracy using a graph\n",
        "import matplotlib.pyplot as plt\n",
        "Algorithms = ['Multinomial_NB', 'SVM', 'KNN', 'Decision_tree', 'Random_forest', 'XGBoost']\n",
        "Accuracy = [Multinomial_accuracy,SVM_accuracy,KNN_accuracy,Decision_tree_accuracy,Random_Forest_accuracy,XGBoost_accuracy]\n",
        "plt.plot(Algorithms, Accuracy, color='red', marker='o')\n",
        "plt.title('Graph showing Algorithm Vs Accuracy')\n",
        "plt.xlabel('Algorithm')\n",
        "plt.ylabel('Accuracy')\n",
        "plt.show()"
      ],
      "execution_count": 11,
      "outputs": [
        {
          "output_type": "display_data",
          "data": {
            "image/png": "[encoded data removed]",
            "text/plain": [
              "<Figure size 432x288 with 1 Axes>"
            ]
          },
          "metadata": {
            "tags": [],
            "needs_background": "light"
          }
        }
      ]
    },
    {
      "cell_type": "markdown",
      "metadata": {
        "id": "bwv9wcR8m5Ri"
      },
      "source": [
        "The accuracy will always be the key measure to find the best algorithms. Hence, as per the above figure, svm got the highest accuracy and KNN got the least. They are 92 and 63 respectively."
      ]
    }
  ]
}