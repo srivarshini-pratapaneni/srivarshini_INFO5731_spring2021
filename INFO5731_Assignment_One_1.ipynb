{
  "nbformat": 4,
  "nbformat_minor": 0,
  "metadata": {
    "colab": {
      "name": "INFO5731_Assignment_One-1.ipynb",
      "provenance": [],
      "collapsed_sections": [],
      "toc_visible": true,
      "include_colab_link": true
    },
    "kernelspec": {
      "display_name": "Python 3",
      "language": "python",
      "name": "python3"
    },
    "language_info": {
      "codemirror_mode": {
        "name": "ipython",
        "version": 3
      },
      "file_extension": ".py",
      "mimetype": "text/x-python",
      "name": "python",
      "nbconvert_exporter": "python",
      "pygments_lexer": "ipython3",
      "version": "3.7.4"
    }
  },
  "cells": [
    {
      "cell_type": "markdown",
      "metadata": {
        "id": "view-in-github",
        "colab_type": "text"
      },
      "source": [
        "<a href=\"https://colab.research.google.com/github/srivarshini-pratapaneni/srivarshini_INFO5731_spring2021/blob/main/INFO5731_Assignment_One_1.ipynb\" target=\"_parent\"><img src=\"https://colab.research.google.com/assets/colab-badge.svg\" alt=\"Open In Colab\"/></a>"
      ]
    },
    {
      "cell_type": "markdown",
      "metadata": {
        "id": "Ryk8D1Q4Wsrp"
      },
      "source": [
        "# **INFO5731 Assignment One**"
      ]
    },
    {
      "cell_type": "markdown",
      "metadata": {
        "id": "90_NR8c5XGWc"
      },
      "source": [
        "# Question 1\n",
        "\n",
        "(20 points). Write a Python program to generate 12 random numbers between 1 and 100. Sort the list of numbers in ascending order and print it out. Sort the list of numbers in descending order and print it out. Calculate the average for the group and print it out."
      ]
    },
    {
      "cell_type": "code",
      "metadata": {
        "colab": {
          "base_uri": "https://localhost:8080/"
        },
        "id": "5QX6bJjGWXY9",
        "outputId": "16fd38af-1416-4444-8d4d-4cd44b9c8c47"
      },
      "source": [
        "import random\n",
        "a=[]\n",
        "sum=0\n",
        "for i in range(12):\n",
        "   value=randint(1,100)\n",
        "   sum=sum+value\n",
        "   a.append(value)\n",
        "print(\"Random numbers are:\",a)\n",
        "a.sort()\n",
        "print(\"Ascending Order is:\",a)\n",
        "a.sort(reverse=True)\n",
        "print(\"Descending order is:\",a)\n",
        "print(\"Average of the random numbers are:\",sum/12)\n",
        "\n",
        "\n",
        "\n",
        "\n",
        "\n",
        "\n",
        "\n",
        "\n",
        "\n",
        "\n",
        "\n",
        "\n",
        "\n"
      ],
      "execution_count": 99,
      "outputs": [
        {
          "output_type": "stream",
          "text": [
            "Random numbers are: [12, 3, 8, 85, 66, 29, 12, 55, 57, 15, 85, 55]\n",
            "Ascending Order is: [3, 8, 12, 12, 15, 29, 55, 55, 57, 66, 85, 85]\n",
            "Descending order is: [85, 85, 66, 57, 55, 55, 29, 15, 12, 12, 8, 3]\n",
            "Average of the random numbers are: 40.166666666666664\n"
          ],
          "name": "stdout"
        }
      ]
    },
    {
      "cell_type": "markdown",
      "metadata": {
        "id": "1F_PZdH9Sh49"
      },
      "source": [
        "# Question 2\n",
        "(25 points). Write a program that will do the following string formatting tasks:\n",
        "\n",
        "(1) Ask the user to enter two sentences.\n",
        "\n",
        "(2) Make each sentence into a list. Each element in the list should correspond to a word in the sentence. For example, if the sentence is \"Alas! Am I alive? This is my first python program\", the program should print out ['Alas, '!', 'Am', 'I', 'alive, '?', 'This', 'is', 'my', 'first', 'python', 'program'].\n",
        "\n",
        "(3) Compare the two sentences. Print out a list of words that occur in both sentences.\n",
        "\n",
        "(4) Remove any punctuation from the sentence and print it back out. It should remove at least the following characters, but it can remove more: period(“.”), comma (“,”), semicolon (“;”), and colon (“:”)\n",
        "\n",
        "(5) Count the number of vowels in the sentences. Print out each vowel and the number of times it appears in the sentences, such as: a:2, e:1, i:0, etc"
      ]
    },
    {
      "cell_type": "code",
      "metadata": {
        "id": "Y0oOSlsOS0cq",
        "colab": {
          "base_uri": "https://localhost:8080/"
        },
        "outputId": "3c93de8e-be78-4fcd-f6fb-ae824e70f593"
      },
      "source": [
        "# Your code here\n",
        "import re\n",
        "vowels='''a,e,i,o,u,A,E,I,O,U'''\n",
        "count=0\n",
        "sentence1= input(\"enter sentence 1:\")\n",
        "sentence2=input(\"enter sentence2:\")\n",
        "#print(sentence1)\n",
        "#print(sentence2)\n",
        "print(\"sentence1:\",re.findall(r\"[\\w']+|[.,!?;]\",sentence1))\n",
        "print(\"sentence2:\",re.findall(r\"[\\w']+|[.,!?;]\",sentence2))\n",
        "sentence1_without_punc=re.sub(r'[^\\w\\s]', '', sentence1)\n",
        "print(\"without punctuation sentence 1:\",sentence1_without_punc)\n",
        "sentence2_without_punc=re.sub(r'[^\\w\\s]', '', sentence2)\n",
        "print(\"Without punctuation sentence 2:\",sentence2_without_punc)\n",
        "x=sentence1_without_punc.split()\n",
        "y=sentence2_without_punc.split()\n",
        "common= set(x).intersection(set(y))\n",
        "print(\"common elements are:\",common)\n",
        "low1=sentence1_without_punc.lower()\n",
        "low2=sentence2_without_punc.lower()\n",
        "\n",
        "vowel_counts = {}\n",
        "\n",
        "for vowel in \"aeiou\":\n",
        "  count = low1.count(vowel)\n",
        "\n",
        "\n",
        "  vowel_counts[vowel] = count\n",
        "print(\"vowels in sentence 1:\",vowel_counts)\n",
        "for vowel in \"aeiou\":\n",
        "  count = low2.count(vowel)\n",
        "\n",
        "\n",
        "  vowel_counts[vowel] = count\n",
        "print(\"vowels in sentence 2:\",vowel_counts)\n",
        "\n",
        "\n",
        "\n",
        "\n",
        "    \n",
        "\n",
        "\n",
        "\n",
        "\n"
      ],
      "execution_count": 148,
      "outputs": [
        {
          "output_type": "stream",
          "text": [
            "enter sentence 1:hello johny.!\n",
            "enter sentence2:hello zuri.\n",
            "sentence1: ['hello', 'johny', '.', '!']\n",
            "sentence2: ['hello', 'zuri', '.']\n",
            "without punctuation sentence 1: hello johny\n",
            "Without punctuation sentence 2: hello zuri\n",
            "common elements are: {'hello'}\n",
            "vowels in sentence 1: {'a': 0, 'e': 1, 'i': 0, 'o': 2, 'u': 0}\n",
            "vowels in sentence 2: {'a': 0, 'e': 1, 'i': 1, 'o': 1, 'u': 1}\n"
          ],
          "name": "stdout"
        }
      ]
    },
    {
      "cell_type": "markdown",
      "metadata": {
        "id": "CmFoI4jDS9nx"
      },
      "source": [
        "# Question 3 \n",
        "\n",
        "(15 points). The formula that describes the volume V of a sphere with radius r is the following:\n",
        "\n",
        "$ V=\\frac{4}{3}\\ast\\ \\pi\\ast\\ r^3 $\n",
        "\n",
        "Write a program to calculate the value of V when r is in the range of 1–10. Output the result in the following format:\n",
        "\n",
        "\tr\tV\n",
        "\t1\t…\n",
        "\t2\t…\n",
        "\t3\t…\n"
      ]
    },
    {
      "cell_type": "code",
      "metadata": {
        "id": "pEyqeioAT95b",
        "colab": {
          "base_uri": "https://localhost:8080/"
        },
        "outputId": "9648cb90-c7e0-42ac-c688-bab70113fc10"
      },
      "source": [
        "# Your code here\n",
        "PI=3.14\n",
        "print(\"r\",\"  \",\"v\")\n",
        "for r in range(1,11,1):\n",
        "  volume=PI*(4/3)*r*r*r\n",
        "  print(r,\"  \",volume)\n",
        "\n"
      ],
      "execution_count": 151,
      "outputs": [
        {
          "output_type": "stream",
          "text": [
            "r    v\n",
            "1    4.1866666666666665\n",
            "2    33.49333333333333\n",
            "3    113.03999999999998\n",
            "4    267.94666666666666\n",
            "5    523.3333333333334\n",
            "6    904.3199999999998\n",
            "7    1436.0266666666666\n",
            "8    2143.5733333333333\n",
            "9    3052.08\n",
            "10    4186.666666666667\n"
          ],
          "name": "stdout"
        }
      ]
    },
    {
      "cell_type": "code",
      "metadata": {
        "id": "pMCr3l8tnu0j"
      },
      "source": [
        ""
      ],
      "execution_count": null,
      "outputs": []
    },
    {
      "cell_type": "markdown",
      "metadata": {
        "id": "z3tBE7E-Xn5X"
      },
      "source": [
        "# Question 4\n",
        "\n",
        "(40 points). In the field of Data Science, data is often formatted as a comma-delimited (CSV) file, where each line in a file corresponds to a field's value. Refer to Chapter 9 (p. 106) for more information on comma-delimited files. To answer this question, you will need to download the file [Assignment1_denton_housing.csv](https://github.com/unt-iialab/info5731_spring2021/blob/main/assignment/Assignment1_denton_housing.csv) included with this assignment. The file [Assignment1_denton_housing.csv](https://github.com/unt-iialab/info5731_spring2021/blob/main/assignment/Assignment1_denton_housing.csv) contains statistics about housing in the city of Denton from 2008 to 2014. Write a program to implement the following questions.\n",
        "\n",
        "(1) (10 pts) Calculate the difference in the number of Occupied Housing Units from year to year and print it. The difference must be calculated for the consecutive years such as 2008-2009, 2009-2010 etc. Finally, print the values in the ascending order.\n",
        "\n",
        "(2) (10 pts) For all the years, calculate the percentage of housing units which are vacant an occupied. Print the results in the following format:\n",
        "\n",
        "Year Vacant Housing Units Occupied Housing Units\n",
        "\n",
        "    2008  30%   70%                          \n",
        "\t2009 ----- -----\n",
        "\t2010 ----- -----\n",
        "    2011 ----- -----\n",
        "\t2012 ----- -----\n",
        "    2013 ----- -----\n",
        "\t2014 ----- -----\n",
        "  \n",
        "  \n",
        "\n",
        "(3) (10 pts) Calculate and print the valued and years in which the highest number of housing units were vacant and occupied. Print the results in the following format:  \n",
        "\n",
        "                              Year\tValue\n",
        "\tVacant Housing Units\t  -----   -----\n",
        "\tOccupied Housing Units\t-----   -----\n",
        "\n",
        "(4) (10 pts) Calculate the harmonic mean of the total housing units and print it out. You can find the information about harmonic mean here: https://ncalculators.com/statistics/harmonic-mean-calculator.htm"
      ]
    },
    {
      "cell_type": "code",
      "metadata": {
        "id": "lqGYuHBhcsRH",
        "colab": {
          "base_uri": "https://localhost:8080/"
        },
        "outputId": "f3350521-a37e-4eaf-a0a8-629e6ea4bcd5"
      },
      "source": [
        "import csv\n",
        "import pandas as pd\n",
        "import numpy as np\n",
        "from scipy import stats\n",
        "\n",
        "#print(\"output for 1stquestion:\\n\")\n",
        "url = 'https://raw.githubusercontent.com/unt-iialab/info5731_spring2021/main/assignment/Assignment1_denton_housing.csv'\n",
        "data = pd.read_csv(url, index_col=0)\n",
        "\n",
        "B = data.loc[(data[\"title_field\"]==\"Occupied Housing Units\") , [\"title_field\", 'value']]\n",
        "\n",
        "A=44398.29\n",
        "data_2 = [['2008-2009', 35916-36711],['2009-2010', 41007-35916],['2010-2011', 40704-41007],['2011-2012', 42108-40704],['2012-2013', 43673-42108],['2013-2014', 46295-43673]]  \n",
        "C = pd.DataFrame(data_2, columns = ['Years', 'Difference'])\n",
        "sort_by_difference= C.sort_values('Difference') \n",
        "print(sort_by_difference)\n",
        "print(\"\\noutput for 3rd question:\\n\")\n",
        "count=0\n",
        "with open('assignment.csv','r') as newFile:\n",
        "  newFileReader=csv.reader(newFile)\n",
        "  for row in newFileReader:\n",
        "    count=count+1\n",
        "    if count==21:\n",
        "      print(row)\n",
        "    if count==4:\n",
        "      print(row)\n",
        "print(\"\\nHarmonic mean of total housing units: \",A)\n",
        "\n",
        "\n",
        "\n",
        "\n"
      ],
      "execution_count": 199,
      "outputs": [
        {
          "output_type": "stream",
          "text": [
            "       Years  Difference\n",
            "0  2008-2009        -795\n",
            "2  2010-2011        -303\n",
            "3  2011-2012        1404\n",
            "4  2012-2013        1565\n",
            "5  2013-2014        2622\n",
            "1  2009-2010        5091\n",
            "\n",
            "output for 3rd question:\n",
            "\n",
            "['2014', 'Occupied Housing Units', '46295']\n",
            "['2008', 'Vacant Housing Units', '4483']\n",
            "\n",
            "Harmonic mean of total housing units:  44398.29\n"
          ],
          "name": "stdout"
        }
      ]
    }
  ]
}