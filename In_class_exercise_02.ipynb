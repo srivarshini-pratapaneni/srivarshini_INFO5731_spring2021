{
  "nbformat": 4,
  "nbformat_minor": 0,
  "metadata": {
    "colab": {
      "name": "In_class_exercise_02.ipynb",
      "provenance": [],
      "collapsed_sections": [],
      "include_colab_link": true
    },
    "kernelspec": {
      "display_name": "Python 3",
      "language": "python",
      "name": "python3"
    },
    "language_info": {
      "codemirror_mode": {
        "name": "ipython",
        "version": 3
      },
      "file_extension": ".py",
      "mimetype": "text/x-python",
      "name": "python",
      "nbconvert_exporter": "python",
      "pygments_lexer": "ipython3",
      "version": "3.7.4"
    }
  },
  "cells": [
    {
      "cell_type": "markdown",
      "metadata": {
        "id": "view-in-github",
        "colab_type": "text"
      },
      "source": [
        "<a href=\"https://colab.research.google.com/github/srivarshini-pratapaneni/srivarshini_INFO5731_spring2021/blob/main/In_class_exercise_02.ipynb\" target=\"_parent\"><img src=\"https://colab.research.google.com/assets/colab-badge.svg\" alt=\"Open In Colab\"/></a>"
      ]
    },
    {
      "cell_type": "markdown",
      "metadata": {
        "id": "oo5bsEh2eeWi"
      },
      "source": [
        "# **The second In-class-exercise (1/27/2021, 20 points in total)**\n"
      ]
    },
    {
      "cell_type": "markdown",
      "metadata": {
        "id": "2sPQ58dIeqgp"
      },
      "source": [
        "(1) Write a Python program to find the duplicate elements in a given array of integers. Return -1 If there are no such elements. (4 points)"
      ]
    },
    {
      "cell_type": "code",
      "metadata": {
        "colab": {
          "base_uri": "https://localhost:8080/"
        },
        "id": "mnrvKMFTeoJR",
        "outputId": "31eb484f-a42b-45b5-8657-c69b4eeafbc9"
      },
      "source": [
        "# write your answer here\n",
        "\n",
        "array=[1,2,3,4,5,5,6,7,3,1]\n",
        "c=0\n",
        "print(\" Duplicate elements are:\")\n",
        "for i in range(0, len(array)):\n",
        "  for j in range(i+1,len(array)):\n",
        "    if(array[i]==array[j]):\n",
        "      print(array[i])\n",
        "      c=c+1 \n",
        "if (c==0):\n",
        "  print(\"-1\")\n"
      ],
      "execution_count": 10,
      "outputs": [
        {
          "output_type": "stream",
          "text": [
            " Duplicate elements are:\n",
            "1\n",
            "3\n",
            "5\n"
          ],
          "name": "stdout"
        }
      ]
    },
    {
      "cell_type": "markdown",
      "metadata": {
        "id": "YYrH6n6IhZoQ"
      },
      "source": [
        "(2) Write a Python program to select all the Sundays of a specified year. (4 points)\n",
        "\n"
      ]
    },
    {
      "cell_type": "markdown",
      "metadata": {
        "id": "6GHp6adBX-2x"
      },
      "source": [
        ""
      ]
    },
    {
      "cell_type": "code",
      "metadata": {
        "colab": {
          "base_uri": "https://localhost:8080/"
        },
        "id": "OSfPLd23eLpX",
        "outputId": "7ec9c195-9f54-4430-df18-02ca27b47d6e"
      },
      "source": [
        "# write your answer here\n",
        "from datetime import timedelta,date\n",
        "\n",
        "def sundays(year):\n",
        "  datee=date(year,1,1)\n",
        "  datee+=timedelta(days=6-datee.weekday())\n",
        "  while datee.year==year:\n",
        "    yield datee\n",
        "    datee+=timedelta(days=7)\n",
        "\n",
        "for k in sundays(2020):\n",
        "  print(k)\n",
        "\n",
        "\n"
      ],
      "execution_count": 12,
      "outputs": [
        {
          "output_type": "stream",
          "text": [
            "2020-01-05\n",
            "2020-01-12\n",
            "2020-01-19\n",
            "2020-01-26\n",
            "2020-02-02\n",
            "2020-02-09\n",
            "2020-02-16\n",
            "2020-02-23\n",
            "2020-03-01\n",
            "2020-03-08\n",
            "2020-03-15\n",
            "2020-03-22\n",
            "2020-03-29\n",
            "2020-04-05\n",
            "2020-04-12\n",
            "2020-04-19\n",
            "2020-04-26\n",
            "2020-05-03\n",
            "2020-05-10\n",
            "2020-05-17\n",
            "2020-05-24\n",
            "2020-05-31\n",
            "2020-06-07\n",
            "2020-06-14\n",
            "2020-06-21\n",
            "2020-06-28\n",
            "2020-07-05\n",
            "2020-07-12\n",
            "2020-07-19\n",
            "2020-07-26\n",
            "2020-08-02\n",
            "2020-08-09\n",
            "2020-08-16\n",
            "2020-08-23\n",
            "2020-08-30\n",
            "2020-09-06\n",
            "2020-09-13\n",
            "2020-09-20\n",
            "2020-09-27\n",
            "2020-10-04\n",
            "2020-10-11\n",
            "2020-10-18\n",
            "2020-10-25\n",
            "2020-11-01\n",
            "2020-11-08\n",
            "2020-11-15\n",
            "2020-11-22\n",
            "2020-11-29\n",
            "2020-12-06\n",
            "2020-12-13\n",
            "2020-12-20\n",
            "2020-12-27\n"
          ],
          "name": "stdout"
        }
      ]
    },
    {
      "cell_type": "markdown",
      "metadata": {
        "id": "UIpziZ6Sjie-"
      },
      "source": [
        "(3) Python files reading and writing. Download the “[exercise_02_data _collection.zip](https://github.com/unt-iialab/info5731_spring2021/blob/main/class_exercises/exercise_02_data_collection.zip)” to your local and un-zip it.\n",
        "\n",
        "*   Write a program to read all the txt files and save the sentences in all the files into one csv file with two columns, the first column is sentence id (txt file name+sentence line number), the second column is the sentence text content. (4 points)\n",
        "*   Remove all the punctuations from the sentences, save the processed sentences into a new column in the same csv file. (4 points)\n",
        "*   Ask the user to enter a word, return all the sentences that include this word, three kinds of information should be returned: sentence id, sentence text content, the count that user input word appear in the sentence. (4 points)\n",
        "\n"
      ]
    },
    {
      "cell_type": "code",
      "metadata": {
        "colab": {
          "base_uri": "https://localhost:8080/"
        },
        "id": "f3CUsrWOj1Xy",
        "outputId": "aa965e26-4a74-4c0c-bfe8-bc1558ed58d9"
      },
      "source": [
        "# write your answer here\n",
        "from pathlib import Path\n",
        "from glob import glob\n",
        "import csv\n",
        "punc = '''!()-{}[];:'\"\\,<>./?@#$%^&%*_~'''\n",
        "count=0\n",
        "finalCount=0\n",
        "p= Path('ex2_input')\n",
        "files= p.glob('*.txt')\n",
        "output_file= open('output.csv','w')\n",
        "output_writer=csv.writer(output_file)\n",
        "for file in files:\n",
        "  #print(file)\n",
        "  with open(file,'r') as text_file:\n",
        "    #print(text_file)\n",
        "    sentences= text_file.readlines()\n",
        "    #print(sentences)\n",
        "    for i,sentence in enumerate(sentences):\n",
        "      #print(file.name,i)\n",
        "      #print(sentence)\n",
        "      sentence_without_punc=sentence\n",
        "      for elmnt in sentence:\n",
        "        if elmnt in punc:\n",
        "          sentence = sentence.replace(elmnt,\"\") \n",
        "      output_writer.writerow([file.name+ str(i),\",\",sentence_without_punc,\",\",sentence])\n",
        "word=input(\"enter the word that need to be searched:\")\n",
        "with open(\"output.csv\") as f_obj:\n",
        "  reader=csv.reader(f_obj,delimiter=',')\n",
        "  for line in reader:\n",
        "    count=0\n",
        "\n",
        "    #print(line[2])\n",
        "    st = line[2]\n",
        "    for ele in st:\n",
        "      if ele in word:\n",
        "        count=count+1\n",
        "    print(word)\n",
        "        \n",
        "        #print(count)\n",
        "    break\n",
        "if count!=0:\n",
        "  print(\"no of times:\",count)\n",
        "else:\n",
        "  print(\"no word found\")\n"
      ],
      "execution_count": 129,
      "outputs": [
        {
          "output_type": "stream",
          "text": [
            "enter the word that need to be searched:took\n",
            "took\n",
            "no of times: 10\n"
          ],
          "name": "stdout"
        }
      ]
    },
    {
      "cell_type": "markdown",
      "metadata": {
        "id": "-12cqmJEpZOh"
      },
      "source": [
        "(4) Install packages nltk, numpy, scipy, pandas, and sklearn on Google Colab. Write a program to test whether they are installed successfully. (3 points for extra)"
      ]
    },
    {
      "cell_type": "code",
      "metadata": {
        "id": "f1pn1Zl2qK77"
      },
      "source": [
        "# write your answer here\n",
        "!pip install nltk\n",
        "!pip install numpy\n",
        "!pip install scipy\n",
        "!pip install pandas\n",
        "!pip install sklearn\n",
        "\n",
        "import numpy\n",
        "import nltk\n",
        "import scipy\n",
        "import pandas\n",
        "import sklearn\n",
        "#as the output shows no error in importing packages that mean these packages\n",
        "#installed succesfully.\n",
        "\n"
      ],
      "execution_count": null,
      "outputs": []
    }
  ]
}