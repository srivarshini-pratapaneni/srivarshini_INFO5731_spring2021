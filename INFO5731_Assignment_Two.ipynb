{
  "nbformat": 4,
  "nbformat_minor": 0,
  "metadata": {
    "colab": {
      "name": "INFO5731_Assignment_Two.ipynb",
      "provenance": [],
      "collapsed_sections": [],
      "toc_visible": true,
      "include_colab_link": true
    },
    "kernelspec": {
      "display_name": "Python 3",
      "language": "python",
      "name": "python3"
    },
    "language_info": {
      "codemirror_mode": {
        "name": "ipython",
        "version": 3
      },
      "file_extension": ".py",
      "mimetype": "text/x-python",
      "name": "python",
      "nbconvert_exporter": "python",
      "pygments_lexer": "ipython3",
      "version": "3.7.4"
    }
  },
  "cells": [
    {
      "cell_type": "markdown",
      "metadata": {
        "id": "view-in-github",
        "colab_type": "text"
      },
      "source": [
        "<a href=\"https://colab.research.google.com/github/srivarshini-pratapaneni/srivarshini_INFO5731_spring2021/blob/main/INFO5731_Assignment_Two.ipynb\" target=\"_parent\"><img src=\"https://colab.research.google.com/assets/colab-badge.svg\" alt=\"Open In Colab\"/></a>"
      ]
    },
    {
      "cell_type": "markdown",
      "metadata": {
        "id": "USSdXHuqnwv9"
      },
      "source": [
        "# **INFO5731 Assignment Two**\n",
        "\n",
        "In this assignment, you will try to gather text data from open data source via web scraping or API. After that you need to clean the text data and syntactic analysis of the data."
      ]
    },
    {
      "cell_type": "markdown",
      "metadata": {
        "id": "YWxodXh5n4xF"
      },
      "source": [
        "# **Question 1**"
      ]
    },
    {
      "cell_type": "markdown",
      "metadata": {
        "id": "TenBkDJ5n95k"
      },
      "source": [
        "(40 points). Write a python program to collect text data from **either of the following sources** and save the data into a **csv file**:\n",
        "\n",
        "(1) Collect all the customer reviews of the product [2019 Dell labtop](https://www.amazon.com/Dell-Inspiron-5000-5570-Laptop/dp/B07N49F51N/ref=sr_1_11?crid=1IJ7UWF2F4GHH&keywords=dell%2Bxps%2B15&qid=1580173569&sprefix=dell%2Caps%2C181&sr=8-11&th=1) on amazon.\n",
        "\n",
        "(2) Collect the top 100 User Reviews of the film [Joker](https://www.imdb.com/title/tt7286456/reviews?ref_=tt_urv) from IMDB.\n",
        "\n",
        "(3) Collect the abstracts of the top 100 research papers by using the query [natural language processing](https://citeseerx.ist.psu.edu/search?q=natural+language+processing&submit.x=0&submit.y=0&sort=rlv&t=doc) from CiteSeerX.\n",
        "\n",
        "(4) Collect the top 100 tweets by using hashtag [\"#CovidVaccine\"](https://twitter.com/hashtag/CovidVaccine) from Twitter. \n"
      ]
    },
    {
      "cell_type": "code",
      "metadata": {
        "id": "PuFPKhC0m1fd",
        "colab": {
          "base_uri": "https://localhost:8080/"
        },
        "outputId": "954440e0-b70f-4a4f-88e8-2f937d2ab2fb"
      },
      "source": [
        "from bs4 import BeautifulSoup\n",
        "import urllib.request\n",
        "from urllib.parse import urljoin\n",
        "import pandas as pd\n",
        "\n",
        "url=\"https://www.imdb.com/title/tt7286456/reviews?ref_=tt_urv\"\n",
        "oururl=urllib.request.urlopen(url)\n",
        "soup=BeautifulSoup(oururl,'html.parser')\n",
        "review=[]\n",
        "for j in range(4):\n",
        "  url=\"https://www.imdb.com//title/tt7286456/reviews/_ajax?paginationKey=g4wp7cbnqqzt43yh62thrmztrlqmyaz6y4hhzo5ziwr26fbyhvrl4ty4ouyfjpzjd5vndtvh6apnbasf3kzo6gxi57z5a3d4\"\n",
        "  for i in soup.find_all('div',{'class':'content'}):\n",
        "    per_review=i.find()\n",
        "    #print(per_review)\n",
        "    review.append(per_review)\n",
        "  \n",
        "New_review=[]\n",
        "for each in review:\n",
        "  new_each=str(each).replace('<br/>','')\n",
        "  new_each=new_each[37:-6]             \n",
        "  print(new_each)\n",
        "  New_review.append(new_each)\n",
        "\n",
        "\n",
        "\n",
        "rev={'tweet':New_review} #converting the reviews list into a dictionary\n",
        "review_data=pd.DataFrame.from_dict(rev) #converting this dictionary into a dataframe\n",
        "review_data.to_csv('output.csv',index=False)\n",
        "\n",
        "len(New_review)\n",
        "\n"
      ],
      "execution_count": null,
      "outputs": [
        {
          "output_type": "stream",
          "text": [
            "Every once in a while a movie comes, that truly makes an impact. Joaquin's performance and scenography in all it's brilliance. Grotesque, haunting and cringy. Hard to watch at times,... but so mesmerizing, you won't blink an eye watching it. Tragic, but with seriously funny moments. Emotional rollercoaster - sometimes, with multiple emotions popping-up at the same time.this is far from a typical action-riddled predictable super-hero movie - it's a proper psychological thriller/drama, with the single best character development I have ever seen.\n",
            "This is a movie that only those who have felt alone and isolated can truly relate to it. You understand the motive and you feel sorry for the character. A lot of people will see this movie and think that it encourages violence. But truly, this movie should encourage each and every one of us to become a better person, treat everyone with respect and make each other feel like they belong in this world, instead of making them feel isolated.\n",
            "Truly a masterpiece, The Best Hollywood film of 2019, one of the Best films of the decade... And truly the Best film to bring a comic book so chillingly and realistically to real ife.\n",
            "Remarkable Direction, Cinematography, Music and the Acting.\n",
            "Some people are surprised to find it DISTURBING and VIOLENT, but it's a necessity and message.\n",
            "It's about society and reflects those underappreciated/unrecognized/bullied people, proving they can do something too.\n",
            "The way it shows class difference, corruption and how rich and talented rule others around them is not exaggerated and that's what makes it different.\n",
            "It's BELIEVABLE.\n",
            "There could be multiple JOKERs living in our society that could shake those around them in much bitter way than the film shows making people uncomforting people.\n",
            "Consider this a wake up call, a message, but first a film. A PERFECT film.\n",
            "Joaquin Phoenix gives a tour de force performance, fearless and stunning in its emotional depth and physicality. It's impossible to talk about this without referencing Heath Ledger's Oscar-winning performance from The Dark Knight, widely considered the definitive live-action portrayal of the Joker, so let's talk about it. The fact is, everyone is going to be stunned by what Phoenix accomplishes, because it's what many thought impossible - a portrayal that matches and potentially exceeds that of The Dark Knight's Clown Prince of Crime\n",
            "Most of the time movies are anticipated like this they end up falling short, way short. Joker is the first time I was more than happy with the hype. Please ignore the complaints of \"pernicious violence\" as they are embarrassing to say the least. We haven't seen a comic movie this real before. If we ever \"deserved\" a better class of criminal - Phillips and Phoenix have delivered. This is dark, Joker IS dark and you will fall in love with the villain as you should. The bad guys are always more romantic anyway.\n",
            "Let me start off by saying if Joaquin Phoneix doesn't get his Oscar for this movie. Then the Oscars should be cancelled. Phoneix is amazing as you might've heard from every review ever! But Todd Phillips. Is at his best here. The story lines he takes and visuals are just breathtaking. The score!! Omg the Score! Every time that score came on, I felt very uncomfortable, like something horrible was about to happen. It was GREAT. The Inspirations from Taxi Driver and King of Comedy are there, and add so much for the movie. And I got to be honest. There are scenes that are very violent. And its disturbing. But I honestly expected it to be WAYYYY more violent from all the controversy going on. Overall this movie was GREAT. Come Oscar season, it needs to be nominated for Best Picture, ScreenPlay, Cinematography, Actor, Score and Director\n",
            "I get why some people hate this . It's because of the political message and how some people think that you need get empathy for Arthur's madness. But come on that is not the point and it will never be. Enjoy this masterpiece because Joaquin Phoenix and Todd Phillips overdid themselves with this movie . The acting,music and cinematography are just amazing ! Please enjoy the movie without overthinking it.\n",
            "I have seen Joker yesterday at Venice an early ill-fated screening. We had some trouble with audio that lead to a near-hour delay, but it definitely was worth it.Joker deserved to be presented at Venice Film Festival, an event that regards cinema as a form of art, because this film is far from a blockbuster or a mere entertainer movie, as most films in the genre are.It focuses on the psyche of the main character, as it slowly crumbles under the pressure of society. And thus, Joaquin Phoenix does a wonderful performance, earning almost surely a nomination at the oscars at least.\n",
            "It's a take on the Joker that differs from Ledger's, but I'd say that both are equally as good. The main difference might be that Ledger's joker is a rational that acts insane, while Phoenix's is insane to the root.Despite being a movie about a superhero villain, Joker is much superior to most of the movies of the genre (I'd exclude the Dark Knight Trilogy only, but Joker is easily as good as Nolan's movies, or at least very close). It is a small-scaled film, with a distinct style and cinematography (that cannot but be appreciated) and a set of very cinephile references that however do not feel too forced or overly opressive. (most notable are the similarities to Scorsese's 'Taxi Driver' and his 'The King of Comedy', but also Chaplin's 'Modern Times' is somewhat referenced).I am eager to see more non-comedic efforts by Todd Phillips. This movie was so far probably the best of 2019 (at worst contested so far only by Dolor Y Gloria or Once Upon a Time in Hollywood), and that should be very convincing.\n",
            "It's sad that Joaquin missed Oscar for 'The gladiator' as he was very compelling Villain. But I am quite confident he will win it for the 'Joker'. Damn what a movie !!! Keeps u on the toes all the time. Unpredictable storyline and really a deep interesting plot. Did I forget to mention acting ? Damn Do niro and Joaquin teach u what really is 5 star acting.\n",
            "To enjoy this movie, get a wine in your hand, close the curtains, turn of ur cellphones and put do not disturb sign on ur door. Best Dark thriller suspense movie you will get to experience.\n",
            "I have just watched the Joker in Venice and I will say if Joaquin doesn't get an Oscar this year then something is wrong with this world. This perfomance is just jaw-dropping, it glues you to the screen and doesn't let go till the end. Story is very good and has some interesting connections with Batman lore(especially one you can't guess from trailers). There are some scenes that are so tense ,well-acted and imaginative that push this movie to 10. Cinematography and direction are great, Todd has proven himself as a director. Robert is also good in his \"small\" role. Will definitely see it again as soon as it out in October.\n",
            "There is no doubt that the movie was well thought of - from the plot to execution. I must praise Phoenix's superb acting. He managed to portray very believably the awkward social reject and also the crazy murderer that he became. I really think it's a role only few could do. It was also very interesting to watch how he deteriorated mentally and little by little gave up on trying to fit into society. Gotta hand it to the script writer - the plot was unpredictable.But...There wasn't anything too complex about Arthur's mental state. No deep psychological analysis, or a web of many deep factors that created a one of a kind psychotic maniac. Could it be that I was expecting too much? Very possible since I came with very high expectations after reading some reviews.\n",
            "What doesn't have anything with expectations is that at the end he didn't remind much of the original Joker. He felt more like a simply society reject that went completely crazy and started killing people. Not that much different from many other serial killers or mass murderers. He didn't have the master mind that so much designated the Joker and made him different from a simple murderer.\n",
            "Another thing is that there were long parts of the movie that felt very dull.\n",
            "Also I found it hard to buy the reason behind the riots in the city and the role the Joker played in them. Even if taken into account that the poverty and anger was cooking for a long time in that society, it still feels somewhat absurd that killing three people in the subway made the joker so notorious.\n",
            "In conclusion, I can identify with the character which gave me a lasting impression of the movie, and this movie could have been very great if it was a movie about how a person that's rejected by society turns slowly into a serial killer. But as a movie about the Joker I felt it was lacking. Lacking the things that made the Joker actually the Joker, and not just another crazy murderer.\n",
            "This movie causes the audience to consider many topics on morality, particularly the poor choices made by the Joker. The Joker is more relatable in this movie than antagonists usually are. I think this gives a more realistic view of \"bad\" people, who are not usually 100% bad in all ways as society often judges. It is important to know when to sympathize with the Joker (towards the beginning of the movie), and when he needs to be identified as a threat (when he begins making certain bad choices). This movie is only suitable for adults who are willing to pick it apart and think critically about it. It isn't for light amusement. That substance is what makes it so good.If you aren't able to ponder underlying themes on your own, and you have to be handed all your thoughts to you, then this isn't the best movie for you.\n",
            "The movie affects you in a way that makes it physically painful to experience, but in a good way.\n",
            "The acting, cinematography, sound design, and the script itself is phenomenal. This movie is a triumph. Joaquin Pheonix deserves an Oscar win for this tbh.\n",
            "Need I say more? Everything about this Movie is Masterful in every single way! Joker isn't just an awesome comic book movie, it's an awesome movie, period. It offers no easy answers to the unsettling questions it raises about a cruel society in decline. Joaquin Phoenix's fully committed performance and Todd Phillips' masterful albeit loose reinvention of the DC source material make Joker a film that should leave comic book fans and non-fans alike disturbed and moved in all the right ways.\n",
            "I will stop watching movies if Joaquin Phoenix is not awarded Oscar for his tremendous acting.\n",
            "I quit relying on critic reviews years ago... I noticed for this movie that the critics ratings were low but viewer ratings were high. That being said, what is the point of a critic when for this movie, they are oh so wrong.\n",
            "I went and saw this tonite with my mom. I went in skeptical and w some what low expectations. I knew not to expect your typical super hero movie.\n",
            "What we got was a masterpiece. I went in expecting sheer boredom and I was instead on the edge of my seat the whole time. Not action edge of your seat, it was a fear of what he may do or say next edge of your seat. To see this character evolve into what we all know as the #1 villain of Batman was beyond genius and Joaquin Phoenix is a true master at perfecting the art of consuming himself into this character. I may be all over the place with this but I don't care. This movie, the story, the acting, directing, effects, everyone brought their A game and JP definitely deserves a nod and win for this role. And no, there is no comparison here to Jack Nicholson or Heath Ledger. Each actor took on this character and different levels, different story points and different points in time, so any comparison would just not be feasible or fair to any of the actors as they embraced him and made him come to life in their own genius way!\n",
            "I thought this film was good but I just don't get the hype personally. The acting was amazing and the film was good overall but I think 'masterpiece' and 'film of the year' are a bit overused throughout the reviews. In no way did I dislike this film, I thought it was really good, just overhyped. I feel as though a lot of the 10/10 reviews are purely based on the fact that it already has amazing reviews and so people want to carry the praise further and that it is about the joker. If this film was released and was about some random guy in the same situation, I don't think the reviews would be as high but maybe that's the point.\n",
            "Joaquin Phoenix IS the joker. Phoenix gave a performance that felt like a mixture of Heath Ledger's joker, Jack Nicholson's joker, and Alex in A Clockwork Orange:Overall, this movie was a trip to say the least. Cinematography was very good, and the soundtrack set the perfect mood for the film for the most part. The acting and plot are what sold it though. Phoenix made me forget that the character was one I had seen before in other movies. His performance mixed with the overall feel and plot of the movie made me leave the theater feeling like I too had just taken a descent into madness.I've never been a very big fan of superhero movies so I was a little weary going into the movie, but this had absolutely nothing to do with anything superhero related other than the characters. I loved this movie and will definitely see it again. It was just what I hoped it would be.\n",
            "Do not really understand all the tens here. Sure, a good movie, good acting, nice shooting. But the plot is not so intriguing. At times it is really long and somewhat boring. I needed to double-check the genre to see if this is a drama or what. Crime, drama, thriller it said. I would put it maybe 90% in the drama and rest in thriller.I miss more dialogue, more depth, more substance. The plot is really not more then a somewhat crazy person becoming a bit crazier. Sure there is an undertone in that it is society and the system and the mean character of people that is bringing him down and creating the evil beast which later wants to destroy everything. Absolutely, but I think it is not intriguing story and plot and dialogue enough to give this a ten.Worthy of watching, yes. But not amazing\n",
            "I went into this film expecting an all-time classic based on the reviews I had read &amp; what I ended up watching was just a decent film overall. Phoenix is outstanding...so he definitely did his part. But I feel like if you've seen the trailers you've seen the movie because the best way I can describe this film is it feels like a 2 hour version of the trailer. At 2 hours it's a relatively common runtime, but it felt a lot longer...which isn't good. I'd say this is much more of a rental than a theater movie. Kinda just....eh.\n",
            "When I heard everyone saying that this is the film of the year and all the reviews flooding in with 10's, I was quite hyped and excited for this movie. When I walked out of the cinema, I felt hollow and empty.Before I continue writing, let me say this, This is NOT the film of the year nor is it a real masterpiece. The cinematography is excellent and the acting is incredible, that's just it. The side-characters are bland and overly dramatic. The plot heavily relies on plot-twists and the film is so harsh that it actually falls flat on it's face.Are there no good points though? Phoenix is phenomenal and the score is great. The cinematography is also incredible but the plot is not that great at all. It even has plot holes and scenes that left me empty.Film of the year? Nope.\n",
            "This is just my opinion but I loved the Joker, the performances, cinematography, directing, style, all build a great story. And the acting from Phoenix was incredible, he done a great take for the iconic character, and wow does he commit, with loosing the weight for the role, to developing the laugh.\n",
            "The recurring themes of so many of the 10 star reviews here should tell you a lot about this movie and its audience. If you can't get through a movie review without tossing in one or more claims that \"THIS movie is so much better and smarter than YOUR superhero movie\" (or even basing your entire review around this premise), then I hate to break it to you, but kid, you're nowhere near as intelligent and grown up as you think you are. This \"my comic publisher is better than yours\" BS should have been left behind on your grade school playground, it has absolutely no relevance to the quality of this movie, and your opinion of this movie should be considered highly suspect if you're in this group.I gotta say, if this movie was also your idea of the most perfect film ever made, you really need to get out more. Look, I get it. If you live in a safe little box where all you watch are superhero movies and mainstream blockbusters then I understand how exposure to themes like this for the first time would seem new and exciting to you, and I think we can all agree that this is probably the best DC Comics related movie in the last decade or so (though that's not a high bar to meet) and of course Joaquin Phoenix is a very talented actor, but stop and take a step back and look at this thing.Joker does indeed present a theme that is of importance to our society, that of the neglect and demonizing of the mentally ill to a degree that sometimes creates monsters which everyone around them should have seen coming a mile away if they hadn't been too busy looking away to avoid feeling uncomfortable. Unfortunately, reminding us all of the fact that this situation still exists is all this movie really has to say. It dances around important subjects like \"HEY KIDS, CLASS INEQUALITY!\", but then never offers any actual insight into them, usually because it's too busy making forced Batman references or dropping cringey little edgy moments like the \"Don't smile\" sign scene which seem to have been designed solely to have something for Hot Topic to print a new t-shirt of. Between that and every single plot twist being telegraphed so very far in advance because a lot of us have seen all these exact same twists so very many times before, I just wasn't impressed.Perhaps if this had been an actual stand-alone movie of its own instead of being shackled by its completely unnecessary ties to the Batman universe it could have done something more interesting with its themes. Don't get me wrong, I don't have any problem with superhero movies, but it just feels so gratuitous here, as if someone came up with this idea, pitched it to an executive, and was told \"sounds great, but can you make it a Batman movie somehow?\", and I'm sorry, but I'm just not into a movie trying to tell me a half-hearted, yet dead-serious speech about mental illness in modern society while simultaneously constantly reminding me that it's technically a superhero movie because $$$\n",
            "I know this is an unpopular opinion, but honestly this movie is overrated and boring. 2 hours felt like 3 and a half.I don't buy the whole thing where he is invited to the show. The meta \"standup\" he made was extremely dull and boring. Then gets allowed to broadcast for that long without being interrupted, also being transported in the most shitty police-car ever after that, it's just not believeable enough to me.He also acted the same when he was on meds aswell as off, so that part didn't make sense either. The police must also be really not catching this guy faster after the homocide.It has some good parts but they can be boiled down to maybe 5 minutes.\n",
            "Is this a movie I would watch again? Probably not.\n",
            "Every once in a while a movie comes, that truly makes an impact. Joaquin's performance and scenography in all it's brilliance. Grotesque, haunting and cringy. Hard to watch at times,... but so mesmerizing, you won't blink an eye watching it. Tragic, but with seriously funny moments. Emotional rollercoaster - sometimes, with multiple emotions popping-up at the same time.this is far from a typical action-riddled predictable super-hero movie - it's a proper psychological thriller/drama, with the single best character development I have ever seen.\n",
            "This is a movie that only those who have felt alone and isolated can truly relate to it. You understand the motive and you feel sorry for the character. A lot of people will see this movie and think that it encourages violence. But truly, this movie should encourage each and every one of us to become a better person, treat everyone with respect and make each other feel like they belong in this world, instead of making them feel isolated.\n",
            "Truly a masterpiece, The Best Hollywood film of 2019, one of the Best films of the decade... And truly the Best film to bring a comic book so chillingly and realistically to real ife.\n",
            "Remarkable Direction, Cinematography, Music and the Acting.\n",
            "Some people are surprised to find it DISTURBING and VIOLENT, but it's a necessity and message.\n",
            "It's about society and reflects those underappreciated/unrecognized/bullied people, proving they can do something too.\n",
            "The way it shows class difference, corruption and how rich and talented rule others around them is not exaggerated and that's what makes it different.\n",
            "It's BELIEVABLE.\n",
            "There could be multiple JOKERs living in our society that could shake those around them in much bitter way than the film shows making people uncomforting people.\n",
            "Consider this a wake up call, a message, but first a film. A PERFECT film.\n",
            "Joaquin Phoenix gives a tour de force performance, fearless and stunning in its emotional depth and physicality. It's impossible to talk about this without referencing Heath Ledger's Oscar-winning performance from The Dark Knight, widely considered the definitive live-action portrayal of the Joker, so let's talk about it. The fact is, everyone is going to be stunned by what Phoenix accomplishes, because it's what many thought impossible - a portrayal that matches and potentially exceeds that of The Dark Knight's Clown Prince of Crime\n",
            "Most of the time movies are anticipated like this they end up falling short, way short. Joker is the first time I was more than happy with the hype. Please ignore the complaints of \"pernicious violence\" as they are embarrassing to say the least. We haven't seen a comic movie this real before. If we ever \"deserved\" a better class of criminal - Phillips and Phoenix have delivered. This is dark, Joker IS dark and you will fall in love with the villain as you should. The bad guys are always more romantic anyway.\n",
            "Let me start off by saying if Joaquin Phoneix doesn't get his Oscar for this movie. Then the Oscars should be cancelled. Phoneix is amazing as you might've heard from every review ever! But Todd Phillips. Is at his best here. The story lines he takes and visuals are just breathtaking. The score!! Omg the Score! Every time that score came on, I felt very uncomfortable, like something horrible was about to happen. It was GREAT. The Inspirations from Taxi Driver and King of Comedy are there, and add so much for the movie. And I got to be honest. There are scenes that are very violent. And its disturbing. But I honestly expected it to be WAYYYY more violent from all the controversy going on. Overall this movie was GREAT. Come Oscar season, it needs to be nominated for Best Picture, ScreenPlay, Cinematography, Actor, Score and Director\n",
            "I get why some people hate this . It's because of the political message and how some people think that you need get empathy for Arthur's madness. But come on that is not the point and it will never be. Enjoy this masterpiece because Joaquin Phoenix and Todd Phillips overdid themselves with this movie . The acting,music and cinematography are just amazing ! Please enjoy the movie without overthinking it.\n",
            "I have seen Joker yesterday at Venice an early ill-fated screening. We had some trouble with audio that lead to a near-hour delay, but it definitely was worth it.Joker deserved to be presented at Venice Film Festival, an event that regards cinema as a form of art, because this film is far from a blockbuster or a mere entertainer movie, as most films in the genre are.It focuses on the psyche of the main character, as it slowly crumbles under the pressure of society. And thus, Joaquin Phoenix does a wonderful performance, earning almost surely a nomination at the oscars at least.\n",
            "It's a take on the Joker that differs from Ledger's, but I'd say that both are equally as good. The main difference might be that Ledger's joker is a rational that acts insane, while Phoenix's is insane to the root.Despite being a movie about a superhero villain, Joker is much superior to most of the movies of the genre (I'd exclude the Dark Knight Trilogy only, but Joker is easily as good as Nolan's movies, or at least very close). It is a small-scaled film, with a distinct style and cinematography (that cannot but be appreciated) and a set of very cinephile references that however do not feel too forced or overly opressive. (most notable are the similarities to Scorsese's 'Taxi Driver' and his 'The King of Comedy', but also Chaplin's 'Modern Times' is somewhat referenced).I am eager to see more non-comedic efforts by Todd Phillips. This movie was so far probably the best of 2019 (at worst contested so far only by Dolor Y Gloria or Once Upon a Time in Hollywood), and that should be very convincing.\n",
            "It's sad that Joaquin missed Oscar for 'The gladiator' as he was very compelling Villain. But I am quite confident he will win it for the 'Joker'. Damn what a movie !!! Keeps u on the toes all the time. Unpredictable storyline and really a deep interesting plot. Did I forget to mention acting ? Damn Do niro and Joaquin teach u what really is 5 star acting.\n",
            "To enjoy this movie, get a wine in your hand, close the curtains, turn of ur cellphones and put do not disturb sign on ur door. Best Dark thriller suspense movie you will get to experience.\n",
            "I have just watched the Joker in Venice and I will say if Joaquin doesn't get an Oscar this year then something is wrong with this world. This perfomance is just jaw-dropping, it glues you to the screen and doesn't let go till the end. Story is very good and has some interesting connections with Batman lore(especially one you can't guess from trailers). There are some scenes that are so tense ,well-acted and imaginative that push this movie to 10. Cinematography and direction are great, Todd has proven himself as a director. Robert is also good in his \"small\" role. Will definitely see it again as soon as it out in October.\n",
            "There is no doubt that the movie was well thought of - from the plot to execution. I must praise Phoenix's superb acting. He managed to portray very believably the awkward social reject and also the crazy murderer that he became. I really think it's a role only few could do. It was also very interesting to watch how he deteriorated mentally and little by little gave up on trying to fit into society. Gotta hand it to the script writer - the plot was unpredictable.But...There wasn't anything too complex about Arthur's mental state. No deep psychological analysis, or a web of many deep factors that created a one of a kind psychotic maniac. Could it be that I was expecting too much? Very possible since I came with very high expectations after reading some reviews.\n",
            "What doesn't have anything with expectations is that at the end he didn't remind much of the original Joker. He felt more like a simply society reject that went completely crazy and started killing people. Not that much different from many other serial killers or mass murderers. He didn't have the master mind that so much designated the Joker and made him different from a simple murderer.\n",
            "Another thing is that there were long parts of the movie that felt very dull.\n",
            "Also I found it hard to buy the reason behind the riots in the city and the role the Joker played in them. Even if taken into account that the poverty and anger was cooking for a long time in that society, it still feels somewhat absurd that killing three people in the subway made the joker so notorious.\n",
            "In conclusion, I can identify with the character which gave me a lasting impression of the movie, and this movie could have been very great if it was a movie about how a person that's rejected by society turns slowly into a serial killer. But as a movie about the Joker I felt it was lacking. Lacking the things that made the Joker actually the Joker, and not just another crazy murderer.\n",
            "This movie causes the audience to consider many topics on morality, particularly the poor choices made by the Joker. The Joker is more relatable in this movie than antagonists usually are. I think this gives a more realistic view of \"bad\" people, who are not usually 100% bad in all ways as society often judges. It is important to know when to sympathize with the Joker (towards the beginning of the movie), and when he needs to be identified as a threat (when he begins making certain bad choices). This movie is only suitable for adults who are willing to pick it apart and think critically about it. It isn't for light amusement. That substance is what makes it so good.If you aren't able to ponder underlying themes on your own, and you have to be handed all your thoughts to you, then this isn't the best movie for you.\n",
            "The movie affects you in a way that makes it physically painful to experience, but in a good way.\n",
            "The acting, cinematography, sound design, and the script itself is phenomenal. This movie is a triumph. Joaquin Pheonix deserves an Oscar win for this tbh.\n",
            "Need I say more? Everything about this Movie is Masterful in every single way! Joker isn't just an awesome comic book movie, it's an awesome movie, period. It offers no easy answers to the unsettling questions it raises about a cruel society in decline. Joaquin Phoenix's fully committed performance and Todd Phillips' masterful albeit loose reinvention of the DC source material make Joker a film that should leave comic book fans and non-fans alike disturbed and moved in all the right ways.\n",
            "I will stop watching movies if Joaquin Phoenix is not awarded Oscar for his tremendous acting.\n",
            "I quit relying on critic reviews years ago... I noticed for this movie that the critics ratings were low but viewer ratings were high. That being said, what is the point of a critic when for this movie, they are oh so wrong.\n",
            "I went and saw this tonite with my mom. I went in skeptical and w some what low expectations. I knew not to expect your typical super hero movie.\n",
            "What we got was a masterpiece. I went in expecting sheer boredom and I was instead on the edge of my seat the whole time. Not action edge of your seat, it was a fear of what he may do or say next edge of your seat. To see this character evolve into what we all know as the #1 villain of Batman was beyond genius and Joaquin Phoenix is a true master at perfecting the art of consuming himself into this character. I may be all over the place with this but I don't care. This movie, the story, the acting, directing, effects, everyone brought their A game and JP definitely deserves a nod and win for this role. And no, there is no comparison here to Jack Nicholson or Heath Ledger. Each actor took on this character and different levels, different story points and different points in time, so any comparison would just not be feasible or fair to any of the actors as they embraced him and made him come to life in their own genius way!\n",
            "I thought this film was good but I just don't get the hype personally. The acting was amazing and the film was good overall but I think 'masterpiece' and 'film of the year' are a bit overused throughout the reviews. In no way did I dislike this film, I thought it was really good, just overhyped. I feel as though a lot of the 10/10 reviews are purely based on the fact that it already has amazing reviews and so people want to carry the praise further and that it is about the joker. If this film was released and was about some random guy in the same situation, I don't think the reviews would be as high but maybe that's the point.\n",
            "Joaquin Phoenix IS the joker. Phoenix gave a performance that felt like a mixture of Heath Ledger's joker, Jack Nicholson's joker, and Alex in A Clockwork Orange:Overall, this movie was a trip to say the least. Cinematography was very good, and the soundtrack set the perfect mood for the film for the most part. The acting and plot are what sold it though. Phoenix made me forget that the character was one I had seen before in other movies. His performance mixed with the overall feel and plot of the movie made me leave the theater feeling like I too had just taken a descent into madness.I've never been a very big fan of superhero movies so I was a little weary going into the movie, but this had absolutely nothing to do with anything superhero related other than the characters. I loved this movie and will definitely see it again. It was just what I hoped it would be.\n",
            "Do not really understand all the tens here. Sure, a good movie, good acting, nice shooting. But the plot is not so intriguing. At times it is really long and somewhat boring. I needed to double-check the genre to see if this is a drama or what. Crime, drama, thriller it said. I would put it maybe 90% in the drama and rest in thriller.I miss more dialogue, more depth, more substance. The plot is really not more then a somewhat crazy person becoming a bit crazier. Sure there is an undertone in that it is society and the system and the mean character of people that is bringing him down and creating the evil beast which later wants to destroy everything. Absolutely, but I think it is not intriguing story and plot and dialogue enough to give this a ten.Worthy of watching, yes. But not amazing\n",
            "I went into this film expecting an all-time classic based on the reviews I had read &amp; what I ended up watching was just a decent film overall. Phoenix is outstanding...so he definitely did his part. But I feel like if you've seen the trailers you've seen the movie because the best way I can describe this film is it feels like a 2 hour version of the trailer. At 2 hours it's a relatively common runtime, but it felt a lot longer...which isn't good. I'd say this is much more of a rental than a theater movie. Kinda just....eh.\n",
            "When I heard everyone saying that this is the film of the year and all the reviews flooding in with 10's, I was quite hyped and excited for this movie. When I walked out of the cinema, I felt hollow and empty.Before I continue writing, let me say this, This is NOT the film of the year nor is it a real masterpiece. The cinematography is excellent and the acting is incredible, that's just it. The side-characters are bland and overly dramatic. The plot heavily relies on plot-twists and the film is so harsh that it actually falls flat on it's face.Are there no good points though? Phoenix is phenomenal and the score is great. The cinematography is also incredible but the plot is not that great at all. It even has plot holes and scenes that left me empty.Film of the year? Nope.\n",
            "This is just my opinion but I loved the Joker, the performances, cinematography, directing, style, all build a great story. And the acting from Phoenix was incredible, he done a great take for the iconic character, and wow does he commit, with loosing the weight for the role, to developing the laugh.\n",
            "The recurring themes of so many of the 10 star reviews here should tell you a lot about this movie and its audience. If you can't get through a movie review without tossing in one or more claims that \"THIS movie is so much better and smarter than YOUR superhero movie\" (or even basing your entire review around this premise), then I hate to break it to you, but kid, you're nowhere near as intelligent and grown up as you think you are. This \"my comic publisher is better than yours\" BS should have been left behind on your grade school playground, it has absolutely no relevance to the quality of this movie, and your opinion of this movie should be considered highly suspect if you're in this group.I gotta say, if this movie was also your idea of the most perfect film ever made, you really need to get out more. Look, I get it. If you live in a safe little box where all you watch are superhero movies and mainstream blockbusters then I understand how exposure to themes like this for the first time would seem new and exciting to you, and I think we can all agree that this is probably the best DC Comics related movie in the last decade or so (though that's not a high bar to meet) and of course Joaquin Phoenix is a very talented actor, but stop and take a step back and look at this thing.Joker does indeed present a theme that is of importance to our society, that of the neglect and demonizing of the mentally ill to a degree that sometimes creates monsters which everyone around them should have seen coming a mile away if they hadn't been too busy looking away to avoid feeling uncomfortable. Unfortunately, reminding us all of the fact that this situation still exists is all this movie really has to say. It dances around important subjects like \"HEY KIDS, CLASS INEQUALITY!\", but then never offers any actual insight into them, usually because it's too busy making forced Batman references or dropping cringey little edgy moments like the \"Don't smile\" sign scene which seem to have been designed solely to have something for Hot Topic to print a new t-shirt of. Between that and every single plot twist being telegraphed so very far in advance because a lot of us have seen all these exact same twists so very many times before, I just wasn't impressed.Perhaps if this had been an actual stand-alone movie of its own instead of being shackled by its completely unnecessary ties to the Batman universe it could have done something more interesting with its themes. Don't get me wrong, I don't have any problem with superhero movies, but it just feels so gratuitous here, as if someone came up with this idea, pitched it to an executive, and was told \"sounds great, but can you make it a Batman movie somehow?\", and I'm sorry, but I'm just not into a movie trying to tell me a half-hearted, yet dead-serious speech about mental illness in modern society while simultaneously constantly reminding me that it's technically a superhero movie because $$$\n",
            "I know this is an unpopular opinion, but honestly this movie is overrated and boring. 2 hours felt like 3 and a half.I don't buy the whole thing where he is invited to the show. The meta \"standup\" he made was extremely dull and boring. Then gets allowed to broadcast for that long without being interrupted, also being transported in the most shitty police-car ever after that, it's just not believeable enough to me.He also acted the same when he was on meds aswell as off, so that part didn't make sense either. The police must also be really not catching this guy faster after the homocide.It has some good parts but they can be boiled down to maybe 5 minutes.\n",
            "Is this a movie I would watch again? Probably not.\n",
            "Every once in a while a movie comes, that truly makes an impact. Joaquin's performance and scenography in all it's brilliance. Grotesque, haunting and cringy. Hard to watch at times,... but so mesmerizing, you won't blink an eye watching it. Tragic, but with seriously funny moments. Emotional rollercoaster - sometimes, with multiple emotions popping-up at the same time.this is far from a typical action-riddled predictable super-hero movie - it's a proper psychological thriller/drama, with the single best character development I have ever seen.\n",
            "This is a movie that only those who have felt alone and isolated can truly relate to it. You understand the motive and you feel sorry for the character. A lot of people will see this movie and think that it encourages violence. But truly, this movie should encourage each and every one of us to become a better person, treat everyone with respect and make each other feel like they belong in this world, instead of making them feel isolated.\n",
            "Truly a masterpiece, The Best Hollywood film of 2019, one of the Best films of the decade... And truly the Best film to bring a comic book so chillingly and realistically to real ife.\n",
            "Remarkable Direction, Cinematography, Music and the Acting.\n",
            "Some people are surprised to find it DISTURBING and VIOLENT, but it's a necessity and message.\n",
            "It's about society and reflects those underappreciated/unrecognized/bullied people, proving they can do something too.\n",
            "The way it shows class difference, corruption and how rich and talented rule others around them is not exaggerated and that's what makes it different.\n",
            "It's BELIEVABLE.\n",
            "There could be multiple JOKERs living in our society that could shake those around them in much bitter way than the film shows making people uncomforting people.\n",
            "Consider this a wake up call, a message, but first a film. A PERFECT film.\n",
            "Joaquin Phoenix gives a tour de force performance, fearless and stunning in its emotional depth and physicality. It's impossible to talk about this without referencing Heath Ledger's Oscar-winning performance from The Dark Knight, widely considered the definitive live-action portrayal of the Joker, so let's talk about it. The fact is, everyone is going to be stunned by what Phoenix accomplishes, because it's what many thought impossible - a portrayal that matches and potentially exceeds that of The Dark Knight's Clown Prince of Crime\n",
            "Most of the time movies are anticipated like this they end up falling short, way short. Joker is the first time I was more than happy with the hype. Please ignore the complaints of \"pernicious violence\" as they are embarrassing to say the least. We haven't seen a comic movie this real before. If we ever \"deserved\" a better class of criminal - Phillips and Phoenix have delivered. This is dark, Joker IS dark and you will fall in love with the villain as you should. The bad guys are always more romantic anyway.\n",
            "Let me start off by saying if Joaquin Phoneix doesn't get his Oscar for this movie. Then the Oscars should be cancelled. Phoneix is amazing as you might've heard from every review ever! But Todd Phillips. Is at his best here. The story lines he takes and visuals are just breathtaking. The score!! Omg the Score! Every time that score came on, I felt very uncomfortable, like something horrible was about to happen. It was GREAT. The Inspirations from Taxi Driver and King of Comedy are there, and add so much for the movie. And I got to be honest. There are scenes that are very violent. And its disturbing. But I honestly expected it to be WAYYYY more violent from all the controversy going on. Overall this movie was GREAT. Come Oscar season, it needs to be nominated for Best Picture, ScreenPlay, Cinematography, Actor, Score and Director\n",
            "I get why some people hate this . It's because of the political message and how some people think that you need get empathy for Arthur's madness. But come on that is not the point and it will never be. Enjoy this masterpiece because Joaquin Phoenix and Todd Phillips overdid themselves with this movie . The acting,music and cinematography are just amazing ! Please enjoy the movie without overthinking it.\n",
            "I have seen Joker yesterday at Venice an early ill-fated screening. We had some trouble with audio that lead to a near-hour delay, but it definitely was worth it.Joker deserved to be presented at Venice Film Festival, an event that regards cinema as a form of art, because this film is far from a blockbuster or a mere entertainer movie, as most films in the genre are.It focuses on the psyche of the main character, as it slowly crumbles under the pressure of society. And thus, Joaquin Phoenix does a wonderful performance, earning almost surely a nomination at the oscars at least.\n",
            "It's a take on the Joker that differs from Ledger's, but I'd say that both are equally as good. The main difference might be that Ledger's joker is a rational that acts insane, while Phoenix's is insane to the root.Despite being a movie about a superhero villain, Joker is much superior to most of the movies of the genre (I'd exclude the Dark Knight Trilogy only, but Joker is easily as good as Nolan's movies, or at least very close). It is a small-scaled film, with a distinct style and cinematography (that cannot but be appreciated) and a set of very cinephile references that however do not feel too forced or overly opressive. (most notable are the similarities to Scorsese's 'Taxi Driver' and his 'The King of Comedy', but also Chaplin's 'Modern Times' is somewhat referenced).I am eager to see more non-comedic efforts by Todd Phillips. This movie was so far probably the best of 2019 (at worst contested so far only by Dolor Y Gloria or Once Upon a Time in Hollywood), and that should be very convincing.\n",
            "It's sad that Joaquin missed Oscar for 'The gladiator' as he was very compelling Villain. But I am quite confident he will win it for the 'Joker'. Damn what a movie !!! Keeps u on the toes all the time. Unpredictable storyline and really a deep interesting plot. Did I forget to mention acting ? Damn Do niro and Joaquin teach u what really is 5 star acting.\n",
            "To enjoy this movie, get a wine in your hand, close the curtains, turn of ur cellphones and put do not disturb sign on ur door. Best Dark thriller suspense movie you will get to experience.\n",
            "I have just watched the Joker in Venice and I will say if Joaquin doesn't get an Oscar this year then something is wrong with this world. This perfomance is just jaw-dropping, it glues you to the screen and doesn't let go till the end. Story is very good and has some interesting connections with Batman lore(especially one you can't guess from trailers). There are some scenes that are so tense ,well-acted and imaginative that push this movie to 10. Cinematography and direction are great, Todd has proven himself as a director. Robert is also good in his \"small\" role. Will definitely see it again as soon as it out in October.\n",
            "There is no doubt that the movie was well thought of - from the plot to execution. I must praise Phoenix's superb acting. He managed to portray very believably the awkward social reject and also the crazy murderer that he became. I really think it's a role only few could do. It was also very interesting to watch how he deteriorated mentally and little by little gave up on trying to fit into society. Gotta hand it to the script writer - the plot was unpredictable.But...There wasn't anything too complex about Arthur's mental state. No deep psychological analysis, or a web of many deep factors that created a one of a kind psychotic maniac. Could it be that I was expecting too much? Very possible since I came with very high expectations after reading some reviews.\n",
            "What doesn't have anything with expectations is that at the end he didn't remind much of the original Joker. He felt more like a simply society reject that went completely crazy and started killing people. Not that much different from many other serial killers or mass murderers. He didn't have the master mind that so much designated the Joker and made him different from a simple murderer.\n",
            "Another thing is that there were long parts of the movie that felt very dull.\n",
            "Also I found it hard to buy the reason behind the riots in the city and the role the Joker played in them. Even if taken into account that the poverty and anger was cooking for a long time in that society, it still feels somewhat absurd that killing three people in the subway made the joker so notorious.\n",
            "In conclusion, I can identify with the character which gave me a lasting impression of the movie, and this movie could have been very great if it was a movie about how a person that's rejected by society turns slowly into a serial killer. But as a movie about the Joker I felt it was lacking. Lacking the things that made the Joker actually the Joker, and not just another crazy murderer.\n",
            "This movie causes the audience to consider many topics on morality, particularly the poor choices made by the Joker. The Joker is more relatable in this movie than antagonists usually are. I think this gives a more realistic view of \"bad\" people, who are not usually 100% bad in all ways as society often judges. It is important to know when to sympathize with the Joker (towards the beginning of the movie), and when he needs to be identified as a threat (when he begins making certain bad choices). This movie is only suitable for adults who are willing to pick it apart and think critically about it. It isn't for light amusement. That substance is what makes it so good.If you aren't able to ponder underlying themes on your own, and you have to be handed all your thoughts to you, then this isn't the best movie for you.\n",
            "The movie affects you in a way that makes it physically painful to experience, but in a good way.\n",
            "The acting, cinematography, sound design, and the script itself is phenomenal. This movie is a triumph. Joaquin Pheonix deserves an Oscar win for this tbh.\n",
            "Need I say more? Everything about this Movie is Masterful in every single way! Joker isn't just an awesome comic book movie, it's an awesome movie, period. It offers no easy answers to the unsettling questions it raises about a cruel society in decline. Joaquin Phoenix's fully committed performance and Todd Phillips' masterful albeit loose reinvention of the DC source material make Joker a film that should leave comic book fans and non-fans alike disturbed and moved in all the right ways.\n",
            "I will stop watching movies if Joaquin Phoenix is not awarded Oscar for his tremendous acting.\n",
            "I quit relying on critic reviews years ago... I noticed for this movie that the critics ratings were low but viewer ratings were high. That being said, what is the point of a critic when for this movie, they are oh so wrong.\n",
            "I went and saw this tonite with my mom. I went in skeptical and w some what low expectations. I knew not to expect your typical super hero movie.\n",
            "What we got was a masterpiece. I went in expecting sheer boredom and I was instead on the edge of my seat the whole time. Not action edge of your seat, it was a fear of what he may do or say next edge of your seat. To see this character evolve into what we all know as the #1 villain of Batman was beyond genius and Joaquin Phoenix is a true master at perfecting the art of consuming himself into this character. I may be all over the place with this but I don't care. This movie, the story, the acting, directing, effects, everyone brought their A game and JP definitely deserves a nod and win for this role. And no, there is no comparison here to Jack Nicholson or Heath Ledger. Each actor took on this character and different levels, different story points and different points in time, so any comparison would just not be feasible or fair to any of the actors as they embraced him and made him come to life in their own genius way!\n",
            "I thought this film was good but I just don't get the hype personally. The acting was amazing and the film was good overall but I think 'masterpiece' and 'film of the year' are a bit overused throughout the reviews. In no way did I dislike this film, I thought it was really good, just overhyped. I feel as though a lot of the 10/10 reviews are purely based on the fact that it already has amazing reviews and so people want to carry the praise further and that it is about the joker. If this film was released and was about some random guy in the same situation, I don't think the reviews would be as high but maybe that's the point.\n",
            "Joaquin Phoenix IS the joker. Phoenix gave a performance that felt like a mixture of Heath Ledger's joker, Jack Nicholson's joker, and Alex in A Clockwork Orange:Overall, this movie was a trip to say the least. Cinematography was very good, and the soundtrack set the perfect mood for the film for the most part. The acting and plot are what sold it though. Phoenix made me forget that the character was one I had seen before in other movies. His performance mixed with the overall feel and plot of the movie made me leave the theater feeling like I too had just taken a descent into madness.I've never been a very big fan of superhero movies so I was a little weary going into the movie, but this had absolutely nothing to do with anything superhero related other than the characters. I loved this movie and will definitely see it again. It was just what I hoped it would be.\n",
            "Do not really understand all the tens here. Sure, a good movie, good acting, nice shooting. But the plot is not so intriguing. At times it is really long and somewhat boring. I needed to double-check the genre to see if this is a drama or what. Crime, drama, thriller it said. I would put it maybe 90% in the drama and rest in thriller.I miss more dialogue, more depth, more substance. The plot is really not more then a somewhat crazy person becoming a bit crazier. Sure there is an undertone in that it is society and the system and the mean character of people that is bringing him down and creating the evil beast which later wants to destroy everything. Absolutely, but I think it is not intriguing story and plot and dialogue enough to give this a ten.Worthy of watching, yes. But not amazing\n",
            "I went into this film expecting an all-time classic based on the reviews I had read &amp; what I ended up watching was just a decent film overall. Phoenix is outstanding...so he definitely did his part. But I feel like if you've seen the trailers you've seen the movie because the best way I can describe this film is it feels like a 2 hour version of the trailer. At 2 hours it's a relatively common runtime, but it felt a lot longer...which isn't good. I'd say this is much more of a rental than a theater movie. Kinda just....eh.\n",
            "When I heard everyone saying that this is the film of the year and all the reviews flooding in with 10's, I was quite hyped and excited for this movie. When I walked out of the cinema, I felt hollow and empty.Before I continue writing, let me say this, This is NOT the film of the year nor is it a real masterpiece. The cinematography is excellent and the acting is incredible, that's just it. The side-characters are bland and overly dramatic. The plot heavily relies on plot-twists and the film is so harsh that it actually falls flat on it's face.Are there no good points though? Phoenix is phenomenal and the score is great. The cinematography is also incredible but the plot is not that great at all. It even has plot holes and scenes that left me empty.Film of the year? Nope.\n",
            "This is just my opinion but I loved the Joker, the performances, cinematography, directing, style, all build a great story. And the acting from Phoenix was incredible, he done a great take for the iconic character, and wow does he commit, with loosing the weight for the role, to developing the laugh.\n",
            "The recurring themes of so many of the 10 star reviews here should tell you a lot about this movie and its audience. If you can't get through a movie review without tossing in one or more claims that \"THIS movie is so much better and smarter than YOUR superhero movie\" (or even basing your entire review around this premise), then I hate to break it to you, but kid, you're nowhere near as intelligent and grown up as you think you are. This \"my comic publisher is better than yours\" BS should have been left behind on your grade school playground, it has absolutely no relevance to the quality of this movie, and your opinion of this movie should be considered highly suspect if you're in this group.I gotta say, if this movie was also your idea of the most perfect film ever made, you really need to get out more. Look, I get it. If you live in a safe little box where all you watch are superhero movies and mainstream blockbusters then I understand how exposure to themes like this for the first time would seem new and exciting to you, and I think we can all agree that this is probably the best DC Comics related movie in the last decade or so (though that's not a high bar to meet) and of course Joaquin Phoenix is a very talented actor, but stop and take a step back and look at this thing.Joker does indeed present a theme that is of importance to our society, that of the neglect and demonizing of the mentally ill to a degree that sometimes creates monsters which everyone around them should have seen coming a mile away if they hadn't been too busy looking away to avoid feeling uncomfortable. Unfortunately, reminding us all of the fact that this situation still exists is all this movie really has to say. It dances around important subjects like \"HEY KIDS, CLASS INEQUALITY!\", but then never offers any actual insight into them, usually because it's too busy making forced Batman references or dropping cringey little edgy moments like the \"Don't smile\" sign scene which seem to have been designed solely to have something for Hot Topic to print a new t-shirt of. Between that and every single plot twist being telegraphed so very far in advance because a lot of us have seen all these exact same twists so very many times before, I just wasn't impressed.Perhaps if this had been an actual stand-alone movie of its own instead of being shackled by its completely unnecessary ties to the Batman universe it could have done something more interesting with its themes. Don't get me wrong, I don't have any problem with superhero movies, but it just feels so gratuitous here, as if someone came up with this idea, pitched it to an executive, and was told \"sounds great, but can you make it a Batman movie somehow?\", and I'm sorry, but I'm just not into a movie trying to tell me a half-hearted, yet dead-serious speech about mental illness in modern society while simultaneously constantly reminding me that it's technically a superhero movie because $$$\n",
            "I know this is an unpopular opinion, but honestly this movie is overrated and boring. 2 hours felt like 3 and a half.I don't buy the whole thing where he is invited to the show. The meta \"standup\" he made was extremely dull and boring. Then gets allowed to broadcast for that long without being interrupted, also being transported in the most shitty police-car ever after that, it's just not believeable enough to me.He also acted the same when he was on meds aswell as off, so that part didn't make sense either. The police must also be really not catching this guy faster after the homocide.It has some good parts but they can be boiled down to maybe 5 minutes.\n",
            "Is this a movie I would watch again? Probably not.\n",
            "Every once in a while a movie comes, that truly makes an impact. Joaquin's performance and scenography in all it's brilliance. Grotesque, haunting and cringy. Hard to watch at times,... but so mesmerizing, you won't blink an eye watching it. Tragic, but with seriously funny moments. Emotional rollercoaster - sometimes, with multiple emotions popping-up at the same time.this is far from a typical action-riddled predictable super-hero movie - it's a proper psychological thriller/drama, with the single best character development I have ever seen.\n",
            "This is a movie that only those who have felt alone and isolated can truly relate to it. You understand the motive and you feel sorry for the character. A lot of people will see this movie and think that it encourages violence. But truly, this movie should encourage each and every one of us to become a better person, treat everyone with respect and make each other feel like they belong in this world, instead of making them feel isolated.\n",
            "Truly a masterpiece, The Best Hollywood film of 2019, one of the Best films of the decade... And truly the Best film to bring a comic book so chillingly and realistically to real ife.\n",
            "Remarkable Direction, Cinematography, Music and the Acting.\n",
            "Some people are surprised to find it DISTURBING and VIOLENT, but it's a necessity and message.\n",
            "It's about society and reflects those underappreciated/unrecognized/bullied people, proving they can do something too.\n",
            "The way it shows class difference, corruption and how rich and talented rule others around them is not exaggerated and that's what makes it different.\n",
            "It's BELIEVABLE.\n",
            "There could be multiple JOKERs living in our society that could shake those around them in much bitter way than the film shows making people uncomforting people.\n",
            "Consider this a wake up call, a message, but first a film. A PERFECT film.\n",
            "Joaquin Phoenix gives a tour de force performance, fearless and stunning in its emotional depth and physicality. It's impossible to talk about this without referencing Heath Ledger's Oscar-winning performance from The Dark Knight, widely considered the definitive live-action portrayal of the Joker, so let's talk about it. The fact is, everyone is going to be stunned by what Phoenix accomplishes, because it's what many thought impossible - a portrayal that matches and potentially exceeds that of The Dark Knight's Clown Prince of Crime\n",
            "Most of the time movies are anticipated like this they end up falling short, way short. Joker is the first time I was more than happy with the hype. Please ignore the complaints of \"pernicious violence\" as they are embarrassing to say the least. We haven't seen a comic movie this real before. If we ever \"deserved\" a better class of criminal - Phillips and Phoenix have delivered. This is dark, Joker IS dark and you will fall in love with the villain as you should. The bad guys are always more romantic anyway.\n",
            "Let me start off by saying if Joaquin Phoneix doesn't get his Oscar for this movie. Then the Oscars should be cancelled. Phoneix is amazing as you might've heard from every review ever! But Todd Phillips. Is at his best here. The story lines he takes and visuals are just breathtaking. The score!! Omg the Score! Every time that score came on, I felt very uncomfortable, like something horrible was about to happen. It was GREAT. The Inspirations from Taxi Driver and King of Comedy are there, and add so much for the movie. And I got to be honest. There are scenes that are very violent. And its disturbing. But I honestly expected it to be WAYYYY more violent from all the controversy going on. Overall this movie was GREAT. Come Oscar season, it needs to be nominated for Best Picture, ScreenPlay, Cinematography, Actor, Score and Director\n",
            "I get why some people hate this . It's because of the political message and how some people think that you need get empathy for Arthur's madness. But come on that is not the point and it will never be. Enjoy this masterpiece because Joaquin Phoenix and Todd Phillips overdid themselves with this movie . The acting,music and cinematography are just amazing ! Please enjoy the movie without overthinking it.\n",
            "I have seen Joker yesterday at Venice an early ill-fated screening. We had some trouble with audio that lead to a near-hour delay, but it definitely was worth it.Joker deserved to be presented at Venice Film Festival, an event that regards cinema as a form of art, because this film is far from a blockbuster or a mere entertainer movie, as most films in the genre are.It focuses on the psyche of the main character, as it slowly crumbles under the pressure of society. And thus, Joaquin Phoenix does a wonderful performance, earning almost surely a nomination at the oscars at least.\n",
            "It's a take on the Joker that differs from Ledger's, but I'd say that both are equally as good. The main difference might be that Ledger's joker is a rational that acts insane, while Phoenix's is insane to the root.Despite being a movie about a superhero villain, Joker is much superior to most of the movies of the genre (I'd exclude the Dark Knight Trilogy only, but Joker is easily as good as Nolan's movies, or at least very close). It is a small-scaled film, with a distinct style and cinematography (that cannot but be appreciated) and a set of very cinephile references that however do not feel too forced or overly opressive. (most notable are the similarities to Scorsese's 'Taxi Driver' and his 'The King of Comedy', but also Chaplin's 'Modern Times' is somewhat referenced).I am eager to see more non-comedic efforts by Todd Phillips. This movie was so far probably the best of 2019 (at worst contested so far only by Dolor Y Gloria or Once Upon a Time in Hollywood), and that should be very convincing.\n",
            "It's sad that Joaquin missed Oscar for 'The gladiator' as he was very compelling Villain. But I am quite confident he will win it for the 'Joker'. Damn what a movie !!! Keeps u on the toes all the time. Unpredictable storyline and really a deep interesting plot. Did I forget to mention acting ? Damn Do niro and Joaquin teach u what really is 5 star acting.\n",
            "To enjoy this movie, get a wine in your hand, close the curtains, turn of ur cellphones and put do not disturb sign on ur door. Best Dark thriller suspense movie you will get to experience.\n",
            "I have just watched the Joker in Venice and I will say if Joaquin doesn't get an Oscar this year then something is wrong with this world. This perfomance is just jaw-dropping, it glues you to the screen and doesn't let go till the end. Story is very good and has some interesting connections with Batman lore(especially one you can't guess from trailers). There are some scenes that are so tense ,well-acted and imaginative that push this movie to 10. Cinematography and direction are great, Todd has proven himself as a director. Robert is also good in his \"small\" role. Will definitely see it again as soon as it out in October.\n",
            "There is no doubt that the movie was well thought of - from the plot to execution. I must praise Phoenix's superb acting. He managed to portray very believably the awkward social reject and also the crazy murderer that he became. I really think it's a role only few could do. It was also very interesting to watch how he deteriorated mentally and little by little gave up on trying to fit into society. Gotta hand it to the script writer - the plot was unpredictable.But...There wasn't anything too complex about Arthur's mental state. No deep psychological analysis, or a web of many deep factors that created a one of a kind psychotic maniac. Could it be that I was expecting too much? Very possible since I came with very high expectations after reading some reviews.\n",
            "What doesn't have anything with expectations is that at the end he didn't remind much of the original Joker. He felt more like a simply society reject that went completely crazy and started killing people. Not that much different from many other serial killers or mass murderers. He didn't have the master mind that so much designated the Joker and made him different from a simple murderer.\n",
            "Another thing is that there were long parts of the movie that felt very dull.\n",
            "Also I found it hard to buy the reason behind the riots in the city and the role the Joker played in them. Even if taken into account that the poverty and anger was cooking for a long time in that society, it still feels somewhat absurd that killing three people in the subway made the joker so notorious.\n",
            "In conclusion, I can identify with the character which gave me a lasting impression of the movie, and this movie could have been very great if it was a movie about how a person that's rejected by society turns slowly into a serial killer. But as a movie about the Joker I felt it was lacking. Lacking the things that made the Joker actually the Joker, and not just another crazy murderer.\n",
            "This movie causes the audience to consider many topics on morality, particularly the poor choices made by the Joker. The Joker is more relatable in this movie than antagonists usually are. I think this gives a more realistic view of \"bad\" people, who are not usually 100% bad in all ways as society often judges. It is important to know when to sympathize with the Joker (towards the beginning of the movie), and when he needs to be identified as a threat (when he begins making certain bad choices). This movie is only suitable for adults who are willing to pick it apart and think critically about it. It isn't for light amusement. That substance is what makes it so good.If you aren't able to ponder underlying themes on your own, and you have to be handed all your thoughts to you, then this isn't the best movie for you.\n",
            "The movie affects you in a way that makes it physically painful to experience, but in a good way.\n",
            "The acting, cinematography, sound design, and the script itself is phenomenal. This movie is a triumph. Joaquin Pheonix deserves an Oscar win for this tbh.\n",
            "Need I say more? Everything about this Movie is Masterful in every single way! Joker isn't just an awesome comic book movie, it's an awesome movie, period. It offers no easy answers to the unsettling questions it raises about a cruel society in decline. Joaquin Phoenix's fully committed performance and Todd Phillips' masterful albeit loose reinvention of the DC source material make Joker a film that should leave comic book fans and non-fans alike disturbed and moved in all the right ways.\n",
            "I will stop watching movies if Joaquin Phoenix is not awarded Oscar for his tremendous acting.\n",
            "I quit relying on critic reviews years ago... I noticed for this movie that the critics ratings were low but viewer ratings were high. That being said, what is the point of a critic when for this movie, they are oh so wrong.\n",
            "I went and saw this tonite with my mom. I went in skeptical and w some what low expectations. I knew not to expect your typical super hero movie.\n",
            "What we got was a masterpiece. I went in expecting sheer boredom and I was instead on the edge of my seat the whole time. Not action edge of your seat, it was a fear of what he may do or say next edge of your seat. To see this character evolve into what we all know as the #1 villain of Batman was beyond genius and Joaquin Phoenix is a true master at perfecting the art of consuming himself into this character. I may be all over the place with this but I don't care. This movie, the story, the acting, directing, effects, everyone brought their A game and JP definitely deserves a nod and win for this role. And no, there is no comparison here to Jack Nicholson or Heath Ledger. Each actor took on this character and different levels, different story points and different points in time, so any comparison would just not be feasible or fair to any of the actors as they embraced him and made him come to life in their own genius way!\n",
            "I thought this film was good but I just don't get the hype personally. The acting was amazing and the film was good overall but I think 'masterpiece' and 'film of the year' are a bit overused throughout the reviews. In no way did I dislike this film, I thought it was really good, just overhyped. I feel as though a lot of the 10/10 reviews are purely based on the fact that it already has amazing reviews and so people want to carry the praise further and that it is about the joker. If this film was released and was about some random guy in the same situation, I don't think the reviews would be as high but maybe that's the point.\n",
            "Joaquin Phoenix IS the joker. Phoenix gave a performance that felt like a mixture of Heath Ledger's joker, Jack Nicholson's joker, and Alex in A Clockwork Orange:Overall, this movie was a trip to say the least. Cinematography was very good, and the soundtrack set the perfect mood for the film for the most part. The acting and plot are what sold it though. Phoenix made me forget that the character was one I had seen before in other movies. His performance mixed with the overall feel and plot of the movie made me leave the theater feeling like I too had just taken a descent into madness.I've never been a very big fan of superhero movies so I was a little weary going into the movie, but this had absolutely nothing to do with anything superhero related other than the characters. I loved this movie and will definitely see it again. It was just what I hoped it would be.\n",
            "Do not really understand all the tens here. Sure, a good movie, good acting, nice shooting. But the plot is not so intriguing. At times it is really long and somewhat boring. I needed to double-check the genre to see if this is a drama or what. Crime, drama, thriller it said. I would put it maybe 90% in the drama and rest in thriller.I miss more dialogue, more depth, more substance. The plot is really not more then a somewhat crazy person becoming a bit crazier. Sure there is an undertone in that it is society and the system and the mean character of people that is bringing him down and creating the evil beast which later wants to destroy everything. Absolutely, but I think it is not intriguing story and plot and dialogue enough to give this a ten.Worthy of watching, yes. But not amazing\n",
            "I went into this film expecting an all-time classic based on the reviews I had read &amp; what I ended up watching was just a decent film overall. Phoenix is outstanding...so he definitely did his part. But I feel like if you've seen the trailers you've seen the movie because the best way I can describe this film is it feels like a 2 hour version of the trailer. At 2 hours it's a relatively common runtime, but it felt a lot longer...which isn't good. I'd say this is much more of a rental than a theater movie. Kinda just....eh.\n",
            "When I heard everyone saying that this is the film of the year and all the reviews flooding in with 10's, I was quite hyped and excited for this movie. When I walked out of the cinema, I felt hollow and empty.Before I continue writing, let me say this, This is NOT the film of the year nor is it a real masterpiece. The cinematography is excellent and the acting is incredible, that's just it. The side-characters are bland and overly dramatic. The plot heavily relies on plot-twists and the film is so harsh that it actually falls flat on it's face.Are there no good points though? Phoenix is phenomenal and the score is great. The cinematography is also incredible but the plot is not that great at all. It even has plot holes and scenes that left me empty.Film of the year? Nope.\n",
            "This is just my opinion but I loved the Joker, the performances, cinematography, directing, style, all build a great story. And the acting from Phoenix was incredible, he done a great take for the iconic character, and wow does he commit, with loosing the weight for the role, to developing the laugh.\n",
            "The recurring themes of so many of the 10 star reviews here should tell you a lot about this movie and its audience. If you can't get through a movie review without tossing in one or more claims that \"THIS movie is so much better and smarter than YOUR superhero movie\" (or even basing your entire review around this premise), then I hate to break it to you, but kid, you're nowhere near as intelligent and grown up as you think you are. This \"my comic publisher is better than yours\" BS should have been left behind on your grade school playground, it has absolutely no relevance to the quality of this movie, and your opinion of this movie should be considered highly suspect if you're in this group.I gotta say, if this movie was also your idea of the most perfect film ever made, you really need to get out more. Look, I get it. If you live in a safe little box where all you watch are superhero movies and mainstream blockbusters then I understand how exposure to themes like this for the first time would seem new and exciting to you, and I think we can all agree that this is probably the best DC Comics related movie in the last decade or so (though that's not a high bar to meet) and of course Joaquin Phoenix is a very talented actor, but stop and take a step back and look at this thing.Joker does indeed present a theme that is of importance to our society, that of the neglect and demonizing of the mentally ill to a degree that sometimes creates monsters which everyone around them should have seen coming a mile away if they hadn't been too busy looking away to avoid feeling uncomfortable. Unfortunately, reminding us all of the fact that this situation still exists is all this movie really has to say. It dances around important subjects like \"HEY KIDS, CLASS INEQUALITY!\", but then never offers any actual insight into them, usually because it's too busy making forced Batman references or dropping cringey little edgy moments like the \"Don't smile\" sign scene which seem to have been designed solely to have something for Hot Topic to print a new t-shirt of. Between that and every single plot twist being telegraphed so very far in advance because a lot of us have seen all these exact same twists so very many times before, I just wasn't impressed.Perhaps if this had been an actual stand-alone movie of its own instead of being shackled by its completely unnecessary ties to the Batman universe it could have done something more interesting with its themes. Don't get me wrong, I don't have any problem with superhero movies, but it just feels so gratuitous here, as if someone came up with this idea, pitched it to an executive, and was told \"sounds great, but can you make it a Batman movie somehow?\", and I'm sorry, but I'm just not into a movie trying to tell me a half-hearted, yet dead-serious speech about mental illness in modern society while simultaneously constantly reminding me that it's technically a superhero movie because $$$\n",
            "I know this is an unpopular opinion, but honestly this movie is overrated and boring. 2 hours felt like 3 and a half.I don't buy the whole thing where he is invited to the show. The meta \"standup\" he made was extremely dull and boring. Then gets allowed to broadcast for that long without being interrupted, also being transported in the most shitty police-car ever after that, it's just not believeable enough to me.He also acted the same when he was on meds aswell as off, so that part didn't make sense either. The police must also be really not catching this guy faster after the homocide.It has some good parts but they can be boiled down to maybe 5 minutes.\n",
            "Is this a movie I would watch again? Probably not.\n"
          ],
          "name": "stdout"
        },
        {
          "output_type": "execute_result",
          "data": {
            "text/plain": [
              "100"
            ]
          },
          "metadata": {
            "tags": []
          },
          "execution_count": 71
        }
      ]
    },
    {
      "cell_type": "markdown",
      "metadata": {
        "id": "AfpMRCrRwN6Z"
      },
      "source": [
        "# **Question 2**"
      ]
    },
    {
      "cell_type": "markdown",
      "metadata": {
        "id": "1dCQEbDawWCw"
      },
      "source": [
        "b(30 points). Write a python program to **clean the text data** you collected above and save the data in a new column in the csv file. The data cleaning steps include:\n",
        "\n",
        "(1) Remove noise, such as special characters and punctuations.\n",
        "\n",
        "(2) Remove numbers.\n",
        "\n",
        "(3) Remove stopwords by using the [stopwords list](https://gist.github.com/sebleier/554280).\n",
        "\n",
        "(4) Lowercase all texts\n",
        "\n",
        "(5) Stemming. \n",
        "\n",
        "(6) Lemmatization."
      ]
    },
    {
      "cell_type": "code",
      "metadata": {
        "id": "vATjQNTY8buA",
        "colab": {
          "base_uri": "https://localhost:8080/",
          "height": 972
        },
        "outputId": "c1a8fe8a-5264-49c2-a52c-5c93859ae99e"
      },
      "source": [
        "from bs4 import BeautifulSoup\n",
        "import urllib.request\n",
        "from urllib.parse import urljoin\n",
        "import pandas as pd\n",
        "from nltk.corpus import stopwords\n",
        "from nltk.stem import PorterStemmer\n",
        "import nltk\n",
        "nltk.download('stopwords')\n",
        "nltk.download('punkt')\n",
        "stop = stopwords.words('english')\n",
        "\n",
        "url=\"https://www.imdb.com/title/tt7286456/reviews?ref_=tt_urv\"\n",
        "oururl=urllib.request.urlopen(url)\n",
        "soup=BeautifulSoup(oururl,'html.parser')\n",
        "review=[]\n",
        "for j in range(4):\n",
        "  url=\"https://www.imdb.com//title/tt7286456/reviews/_ajax?paginationKey=g4wp7cbnqqzt43yh62thrmztrlqmyaz6y4hhzo5ziwr26fbyhvrl4ty4ouyfjpzjd5vndtvh6apnbasf3kzo6gxi57z5a3d4\"\n",
        "  for i in soup.find_all('div',{'class':'content'}):\n",
        "    per_review=i.find()\n",
        "    #print(per_review)\n",
        "    review.append(per_review)\n",
        "  \n",
        "\n",
        "\n",
        "\n"
      ],
      "execution_count": null,
      "outputs": [
        {
          "output_type": "stream",
          "text": [
            "[nltk_data] Downloading package stopwords to /root/nltk_data...\n",
            "[nltk_data]   Package stopwords is already up-to-date!\n",
            "[nltk_data] Downloading package punkt to /root/nltk_data...\n",
            "[nltk_data]   Package punkt is already up-to-date!\n"
          ],
          "name": "stdout"
        },
        {
          "output_type": "stream",
          "text": [
            "/usr/local/lib/python3.7/dist-packages/ipykernel_launcher.py:27: SettingWithCopyWarning: \n",
            "A value is trying to be set on a copy of a slice from a DataFrame.\n",
            "Try using .loc[row_indexer,col_indexer] = value instead\n",
            "\n",
            "See the caveats in the documentation: https://pandas.pydata.org/pandas-docs/stable/user_guide/indexing.html#returning-a-view-versus-a-copy\n",
            "/usr/local/lib/python3.7/dist-packages/ipykernel_launcher.py:28: SettingWithCopyWarning: \n",
            "A value is trying to be set on a copy of a slice from a DataFrame.\n",
            "Try using .loc[row_indexer,col_indexer] = value instead\n",
            "\n",
            "See the caveats in the documentation: https://pandas.pydata.org/pandas-docs/stable/user_guide/indexing.html#returning-a-view-versus-a-copy\n",
            "/usr/local/lib/python3.7/dist-packages/ipykernel_launcher.py:29: SettingWithCopyWarning: \n",
            "A value is trying to be set on a copy of a slice from a DataFrame.\n",
            "Try using .loc[row_indexer,col_indexer] = value instead\n",
            "\n",
            "See the caveats in the documentation: https://pandas.pydata.org/pandas-docs/stable/user_guide/indexing.html#returning-a-view-versus-a-copy\n",
            "/usr/local/lib/python3.7/dist-packages/ipykernel_launcher.py:31: SettingWithCopyWarning: \n",
            "A value is trying to be set on a copy of a slice from a DataFrame.\n",
            "Try using .loc[row_indexer,col_indexer] = value instead\n",
            "\n",
            "See the caveats in the documentation: https://pandas.pydata.org/pandas-docs/stable/user_guide/indexing.html#returning-a-view-versus-a-copy\n",
            "/usr/local/lib/python3.7/dist-packages/ipykernel_launcher.py:32: SettingWithCopyWarning: \n",
            "A value is trying to be set on a copy of a slice from a DataFrame.\n",
            "Try using .loc[row_indexer,col_indexer] = value instead\n",
            "\n",
            "See the caveats in the documentation: https://pandas.pydata.org/pandas-docs/stable/user_guide/indexing.html#returning-a-view-versus-a-copy\n",
            "/usr/local/lib/python3.7/dist-packages/ipykernel_launcher.py:33: SettingWithCopyWarning: \n",
            "A value is trying to be set on a copy of a slice from a DataFrame.\n",
            "Try using .loc[row_indexer,col_indexer] = value instead\n",
            "\n",
            "See the caveats in the documentation: https://pandas.pydata.org/pandas-docs/stable/user_guide/indexing.html#returning-a-view-versus-a-copy\n"
          ],
          "name": "stderr"
        },
        {
          "output_type": "error",
          "ename": "ValueError",
          "evalue": "ignored",
          "traceback": [
            "\u001b[0;31m---------------------------------------------------------------------------\u001b[0m",
            "\u001b[0;31mValueError\u001b[0m                                Traceback (most recent call last)",
            "\u001b[0;32m<ipython-input-98-9a67080649cb>\u001b[0m in \u001b[0;36m<module>\u001b[0;34m()\u001b[0m\n\u001b[1;32m     40\u001b[0m \u001b[0;31m#print(case['tweet'])\u001b[0m\u001b[0;34m\u001b[0m\u001b[0;34m\u001b[0m\u001b[0;34m\u001b[0m\u001b[0m\n\u001b[1;32m     41\u001b[0m \u001b[0;31m#df=pd.read_csv(\"output2.csv\")\u001b[0m\u001b[0;34m\u001b[0m\u001b[0;34m\u001b[0m\u001b[0;34m\u001b[0m\u001b[0m\n\u001b[0;32m---> 42\u001b[0;31m \u001b[0mreview_data\u001b[0m\u001b[0;34m[\u001b[0m\u001b[0;34m'new_col'\u001b[0m\u001b[0;34m]\u001b[0m\u001b[0;34m=\u001b[0m\u001b[0mcase\u001b[0m\u001b[0;34m[\u001b[0m\u001b[0;34m'tweet'\u001b[0m\u001b[0;34m]\u001b[0m\u001b[0;34m.\u001b[0m\u001b[0mvalues\u001b[0m\u001b[0;34m\u001b[0m\u001b[0;34m\u001b[0m\u001b[0m\n\u001b[0m\u001b[1;32m     43\u001b[0m \u001b[0;31m#pd.DataFrame(case['tweet']).to_csv(\"/output2.csv\")\u001b[0m\u001b[0;34m\u001b[0m\u001b[0;34m\u001b[0m\u001b[0;34m\u001b[0m\u001b[0m\n\u001b[1;32m     44\u001b[0m \u001b[0;34m\u001b[0m\u001b[0m\n",
            "\u001b[0;32m/usr/local/lib/python3.7/dist-packages/pandas/core/frame.py\u001b[0m in \u001b[0;36m__setitem__\u001b[0;34m(self, key, value)\u001b[0m\n\u001b[1;32m   3042\u001b[0m         \u001b[0;32melse\u001b[0m\u001b[0;34m:\u001b[0m\u001b[0;34m\u001b[0m\u001b[0;34m\u001b[0m\u001b[0m\n\u001b[1;32m   3043\u001b[0m             \u001b[0;31m# set column\u001b[0m\u001b[0;34m\u001b[0m\u001b[0;34m\u001b[0m\u001b[0;34m\u001b[0m\u001b[0m\n\u001b[0;32m-> 3044\u001b[0;31m             \u001b[0mself\u001b[0m\u001b[0;34m.\u001b[0m\u001b[0m_set_item\u001b[0m\u001b[0;34m(\u001b[0m\u001b[0mkey\u001b[0m\u001b[0;34m,\u001b[0m \u001b[0mvalue\u001b[0m\u001b[0;34m)\u001b[0m\u001b[0;34m\u001b[0m\u001b[0;34m\u001b[0m\u001b[0m\n\u001b[0m\u001b[1;32m   3045\u001b[0m \u001b[0;34m\u001b[0m\u001b[0m\n\u001b[1;32m   3046\u001b[0m     \u001b[0;32mdef\u001b[0m \u001b[0m_setitem_slice\u001b[0m\u001b[0;34m(\u001b[0m\u001b[0mself\u001b[0m\u001b[0;34m,\u001b[0m \u001b[0mkey\u001b[0m\u001b[0;34m:\u001b[0m \u001b[0mslice\u001b[0m\u001b[0;34m,\u001b[0m \u001b[0mvalue\u001b[0m\u001b[0;34m)\u001b[0m\u001b[0;34m:\u001b[0m\u001b[0;34m\u001b[0m\u001b[0;34m\u001b[0m\u001b[0m\n",
            "\u001b[0;32m/usr/local/lib/python3.7/dist-packages/pandas/core/frame.py\u001b[0m in \u001b[0;36m_set_item\u001b[0;34m(self, key, value)\u001b[0m\n\u001b[1;32m   3118\u001b[0m         \"\"\"\n\u001b[1;32m   3119\u001b[0m         \u001b[0mself\u001b[0m\u001b[0;34m.\u001b[0m\u001b[0m_ensure_valid_index\u001b[0m\u001b[0;34m(\u001b[0m\u001b[0mvalue\u001b[0m\u001b[0;34m)\u001b[0m\u001b[0;34m\u001b[0m\u001b[0;34m\u001b[0m\u001b[0m\n\u001b[0;32m-> 3120\u001b[0;31m         \u001b[0mvalue\u001b[0m \u001b[0;34m=\u001b[0m \u001b[0mself\u001b[0m\u001b[0;34m.\u001b[0m\u001b[0m_sanitize_column\u001b[0m\u001b[0;34m(\u001b[0m\u001b[0mkey\u001b[0m\u001b[0;34m,\u001b[0m \u001b[0mvalue\u001b[0m\u001b[0;34m)\u001b[0m\u001b[0;34m\u001b[0m\u001b[0;34m\u001b[0m\u001b[0m\n\u001b[0m\u001b[1;32m   3121\u001b[0m         \u001b[0mNDFrame\u001b[0m\u001b[0;34m.\u001b[0m\u001b[0m_set_item\u001b[0m\u001b[0;34m(\u001b[0m\u001b[0mself\u001b[0m\u001b[0;34m,\u001b[0m \u001b[0mkey\u001b[0m\u001b[0;34m,\u001b[0m \u001b[0mvalue\u001b[0m\u001b[0;34m)\u001b[0m\u001b[0;34m\u001b[0m\u001b[0;34m\u001b[0m\u001b[0m\n\u001b[1;32m   3122\u001b[0m \u001b[0;34m\u001b[0m\u001b[0m\n",
            "\u001b[0;32m/usr/local/lib/python3.7/dist-packages/pandas/core/frame.py\u001b[0m in \u001b[0;36m_sanitize_column\u001b[0;34m(self, key, value, broadcast)\u001b[0m\n\u001b[1;32m   3766\u001b[0m \u001b[0;34m\u001b[0m\u001b[0m\n\u001b[1;32m   3767\u001b[0m             \u001b[0;31m# turn me into an ndarray\u001b[0m\u001b[0;34m\u001b[0m\u001b[0;34m\u001b[0m\u001b[0;34m\u001b[0m\u001b[0m\n\u001b[0;32m-> 3768\u001b[0;31m             \u001b[0mvalue\u001b[0m \u001b[0;34m=\u001b[0m \u001b[0msanitize_index\u001b[0m\u001b[0;34m(\u001b[0m\u001b[0mvalue\u001b[0m\u001b[0;34m,\u001b[0m \u001b[0mself\u001b[0m\u001b[0;34m.\u001b[0m\u001b[0mindex\u001b[0m\u001b[0;34m)\u001b[0m\u001b[0;34m\u001b[0m\u001b[0;34m\u001b[0m\u001b[0m\n\u001b[0m\u001b[1;32m   3769\u001b[0m             \u001b[0;32mif\u001b[0m \u001b[0;32mnot\u001b[0m \u001b[0misinstance\u001b[0m\u001b[0;34m(\u001b[0m\u001b[0mvalue\u001b[0m\u001b[0;34m,\u001b[0m \u001b[0;34m(\u001b[0m\u001b[0mnp\u001b[0m\u001b[0;34m.\u001b[0m\u001b[0mndarray\u001b[0m\u001b[0;34m,\u001b[0m \u001b[0mIndex\u001b[0m\u001b[0;34m)\u001b[0m\u001b[0;34m)\u001b[0m\u001b[0;34m:\u001b[0m\u001b[0;34m\u001b[0m\u001b[0;34m\u001b[0m\u001b[0m\n\u001b[1;32m   3770\u001b[0m                 \u001b[0;32mif\u001b[0m \u001b[0misinstance\u001b[0m\u001b[0;34m(\u001b[0m\u001b[0mvalue\u001b[0m\u001b[0;34m,\u001b[0m \u001b[0mlist\u001b[0m\u001b[0;34m)\u001b[0m \u001b[0;32mand\u001b[0m \u001b[0mlen\u001b[0m\u001b[0;34m(\u001b[0m\u001b[0mvalue\u001b[0m\u001b[0;34m)\u001b[0m \u001b[0;34m>\u001b[0m \u001b[0;36m0\u001b[0m\u001b[0;34m:\u001b[0m\u001b[0;34m\u001b[0m\u001b[0;34m\u001b[0m\u001b[0m\n",
            "\u001b[0;32m/usr/local/lib/python3.7/dist-packages/pandas/core/internals/construction.py\u001b[0m in \u001b[0;36msanitize_index\u001b[0;34m(data, index)\u001b[0m\n\u001b[1;32m    746\u001b[0m     \u001b[0;32mif\u001b[0m \u001b[0mlen\u001b[0m\u001b[0;34m(\u001b[0m\u001b[0mdata\u001b[0m\u001b[0;34m)\u001b[0m \u001b[0;34m!=\u001b[0m \u001b[0mlen\u001b[0m\u001b[0;34m(\u001b[0m\u001b[0mindex\u001b[0m\u001b[0;34m)\u001b[0m\u001b[0;34m:\u001b[0m\u001b[0;34m\u001b[0m\u001b[0;34m\u001b[0m\u001b[0m\n\u001b[1;32m    747\u001b[0m         raise ValueError(\n\u001b[0;32m--> 748\u001b[0;31m             \u001b[0;34m\"Length of values \"\u001b[0m\u001b[0;34m\u001b[0m\u001b[0;34m\u001b[0m\u001b[0m\n\u001b[0m\u001b[1;32m    749\u001b[0m             \u001b[0;34mf\"({len(data)}) \"\u001b[0m\u001b[0;34m\u001b[0m\u001b[0;34m\u001b[0m\u001b[0m\n\u001b[1;32m    750\u001b[0m             \u001b[0;34m\"does not match length of index \"\u001b[0m\u001b[0;34m\u001b[0m\u001b[0;34m\u001b[0m\u001b[0m\n",
            "\u001b[0;31mValueError\u001b[0m: Length of values (99) does not match length of index (100)"
          ]
        }
      ]
    },
    {
      "cell_type": "code",
      "metadata": {
        "id": "kA8mAO24Bhso"
      },
      "source": [
        "New_review=[]\r\n",
        "for each in review:\r\n",
        "  new_each=str(each).replace('<br/>','')\r\n",
        "  new_each=new_each[37:-6]    \r\n",
        "  case['tweet'] = case['tweet'].str.replace('[^\\w\\s]','') \r\n",
        "  case['tweet'] = case['tweet'].apply(lambda x: \" \".join(x.lower() for x in x.split()))\r\n",
        "  case['tweet'] = case['tweet'].apply(lambda x: \" \".join(x for x in x.split() if x not in stop))\r\n",
        "  st = PorterStemmer()\r\n",
        "  case['tweet']=case['tweet'].apply(lambda x: \" \".join([st.stem(word) for word in x.split()]))\r\n",
        "  case['tweet'] = case['tweet'].apply(lambda x: \" \".join([Word(word).lemmatize() for word in x.split()]))\r\n",
        "  case['hastags'] = case['tweet'].apply(lambda x: len([x for x in x.split() if x.startswith('#')]))\r\n",
        "  #print(new_each)\r\n",
        "  \r\n",
        "  New_review.append(new_each)\r\n",
        "rev={'tweet':New_review} #converting the reviews list into a dictionary\r\n",
        "review_data=pd.DataFrame.from_dict(rev) #converting this dictionary into a dataframe\r\n",
        "#review_data.to_csv('output2.csv',index=False)\r\n",
        "#print(case['tweet'])\r\n",
        "#df=pd.read_csv(\"output2.csv\")\r\n",
        "review_data['new_col']=case['tweet'].values\r\n",
        "#pd.DataFrame(case['tweet']).to_csv(\"/output2.csv\")"
      ],
      "execution_count": null,
      "outputs": []
    },
    {
      "cell_type": "code",
      "metadata": {
        "id": "4OKOgE8UDobb"
      },
      "source": [
        "case=pd.read_csv(\"output.csv\")"
      ],
      "execution_count": null,
      "outputs": []
    },
    {
      "cell_type": "code",
      "metadata": {
        "id": "KiH2LH5sAVFN"
      },
      "source": [
        "case= case.iloc[1:]"
      ],
      "execution_count": null,
      "outputs": []
    },
    {
      "cell_type": "code",
      "metadata": {
        "colab": {
          "base_uri": "https://localhost:8080/",
          "height": 419
        },
        "id": "KB4mChxpD0nv",
        "outputId": "9e883e80-ffd3-42bc-a590-7fb3aba58461"
      },
      "source": [
        "case"
      ],
      "execution_count": null,
      "outputs": [
        {
          "output_type": "execute_result",
          "data": {
            "text/html": [
              "<div>\n",
              "<style scoped>\n",
              "    .dataframe tbody tr th:only-of-type {\n",
              "        vertical-align: middle;\n",
              "    }\n",
              "\n",
              "    .dataframe tbody tr th {\n",
              "        vertical-align: top;\n",
              "    }\n",
              "\n",
              "    .dataframe thead th {\n",
              "        text-align: right;\n",
              "    }\n",
              "</style>\n",
              "<table border=\"1\" class=\"dataframe\">\n",
              "  <thead>\n",
              "    <tr style=\"text-align: right;\">\n",
              "      <th></th>\n",
              "      <th>tweet</th>\n",
              "    </tr>\n",
              "  </thead>\n",
              "  <tbody>\n",
              "    <tr>\n",
              "      <th>0</th>\n",
              "      <td>Every once in a while a movie comes, that trul...</td>\n",
              "    </tr>\n",
              "    <tr>\n",
              "      <th>1</th>\n",
              "      <td>This is a movie that only those who have felt ...</td>\n",
              "    </tr>\n",
              "    <tr>\n",
              "      <th>2</th>\n",
              "      <td>Truly a masterpiece, The Best Hollywood film o...</td>\n",
              "    </tr>\n",
              "    <tr>\n",
              "      <th>3</th>\n",
              "      <td>Joaquin Phoenix gives a tour de force performa...</td>\n",
              "    </tr>\n",
              "    <tr>\n",
              "      <th>4</th>\n",
              "      <td>Most of the time movies are anticipated like t...</td>\n",
              "    </tr>\n",
              "    <tr>\n",
              "      <th>...</th>\n",
              "      <td>...</td>\n",
              "    </tr>\n",
              "    <tr>\n",
              "      <th>95</th>\n",
              "      <td>I went into this film expecting an all-time cl...</td>\n",
              "    </tr>\n",
              "    <tr>\n",
              "      <th>96</th>\n",
              "      <td>When I heard everyone saying that this is the ...</td>\n",
              "    </tr>\n",
              "    <tr>\n",
              "      <th>97</th>\n",
              "      <td>This is just my opinion but I loved the Joker,...</td>\n",
              "    </tr>\n",
              "    <tr>\n",
              "      <th>98</th>\n",
              "      <td>The recurring themes of so many of the 10 star...</td>\n",
              "    </tr>\n",
              "    <tr>\n",
              "      <th>99</th>\n",
              "      <td>I know this is an unpopular opinion, but hones...</td>\n",
              "    </tr>\n",
              "  </tbody>\n",
              "</table>\n",
              "<p>100 rows × 1 columns</p>\n",
              "</div>"
            ],
            "text/plain": [
              "                                                tweet\n",
              "0   Every once in a while a movie comes, that trul...\n",
              "1   This is a movie that only those who have felt ...\n",
              "2   Truly a masterpiece, The Best Hollywood film o...\n",
              "3   Joaquin Phoenix gives a tour de force performa...\n",
              "4   Most of the time movies are anticipated like t...\n",
              "..                                                ...\n",
              "95  I went into this film expecting an all-time cl...\n",
              "96  When I heard everyone saying that this is the ...\n",
              "97  This is just my opinion but I loved the Joker,...\n",
              "98  The recurring themes of so many of the 10 star...\n",
              "99  I know this is an unpopular opinion, but hones...\n",
              "\n",
              "[100 rows x 1 columns]"
            ]
          },
          "metadata": {
            "tags": []
          },
          "execution_count": 107
        }
      ]
    },
    {
      "cell_type": "code",
      "metadata": {
        "id": "AGqqqlQyA6vP"
      },
      "source": [
        "review_data['new_col']=case['tweet'].values"
      ],
      "execution_count": null,
      "outputs": []
    },
    {
      "cell_type": "code",
      "metadata": {
        "id": "bOAew4mhBIve"
      },
      "source": [
        "review_data.to_csv(\"results.csv\")"
      ],
      "execution_count": null,
      "outputs": []
    },
    {
      "cell_type": "markdown",
      "metadata": {
        "id": "E5mmYIfN8eYV"
      },
      "source": [
        "# **Question 3**"
      ]
    },
    {
      "cell_type": "markdown",
      "metadata": {
        "id": "hsi2y4z88ngX"
      },
      "source": [
        "(30 points). Write a python program to conduct **syntax and structure analysis** of the clean text you just saved above. The syntax and structure analysis includes: \n",
        "\n",
        "(1) Parts of Speech (POS) Tagging: Tag Parts of Speech of each word in the text, and calculate the total number of N(oun), V(erb), Adj(ective), Adv(erb), respectively.\n",
        "\n",
        "(2) Constituency Parsing and Dependency Parsing: print out the constituency parsing trees and dependency parsing trees of all the sentences. Using one sentence as an example to explain your understanding about the constituency parsing tree and dependency parsing tree.\n",
        "\n",
        "(3) Named Entity Recognition: Extract all the entities such as person names, organizations, locations, product names, and date from the clean texts, calculate the count of each entity."
      ]
    },
    {
      "cell_type": "code",
      "metadata": {
        "id": "QQKnPjPDHJHr"
      },
      "source": [
        "# Write your code here\n",
        "\n",
        "\n",
        "\n",
        "\n"
      ],
      "execution_count": null,
      "outputs": []
    },
    {
      "cell_type": "markdown",
      "metadata": {
        "id": "xWOtvT2rHNWy"
      },
      "source": [
        "**Write your explanations of the constituency parsing tree and dependency parsing tree here (Question 3-2):** "
      ]
    },
    {
      "cell_type": "code",
      "metadata": {
        "id": "qEtOjCAsYK-k",
        "outputId": "9e93d91f-e6bf-4aba-90a4-6e4f6383b390"
      },
      "source": [
        "'''\n",
        "Write your explanations of the constituency parsing tree and dependency parsing tree here\n",
        "\n",
        "\n",
        "\n",
        "'''"
      ],
      "execution_count": null,
      "outputs": [
        {
          "output_type": "execute_result",
          "data": {
            "text/plain": [
              "'\\nWrite your explanations of the constituency parsing tree and dependency parsing tree here\\n\\n\\n\\n'"
            ]
          },
          "metadata": {
            "tags": []
          },
          "execution_count": 1
        }
      ]
    }
  ]
}