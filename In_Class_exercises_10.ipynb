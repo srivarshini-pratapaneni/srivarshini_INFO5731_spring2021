{
  "nbformat": 4,
  "nbformat_minor": 0,
  "metadata": {
    "kernelspec": {
      "display_name": "Python 3",
      "language": "python",
      "name": "python3"
    },
    "language_info": {
      "codemirror_mode": {
        "name": "ipython",
        "version": 3
      },
      "file_extension": ".py",
      "mimetype": "text/x-python",
      "name": "python",
      "nbconvert_exporter": "python",
      "pygments_lexer": "ipython3",
      "version": "3.8.5"
    },
    "colab": {
      "name": "In_Class_exercises-10.ipynb",
      "provenance": [],
      "collapsed_sections": [],
      "toc_visible": true,
      "include_colab_link": true
    }
  },
  "cells": [
    {
      "cell_type": "markdown",
      "metadata": {
        "id": "view-in-github",
        "colab_type": "text"
      },
      "source": [
        "<a href=\"https://colab.research.google.com/github/srivarshini-pratapaneni/srivarshini_INFO5731_spring2021/blob/main/In_Class_exercises_10.ipynb\" target=\"_parent\"><img src=\"https://colab.research.google.com/assets/colab-badge.svg\" alt=\"Open In Colab\"/></a>"
      ]
    },
    {
      "cell_type": "markdown",
      "metadata": {
        "id": "W2MF9hjBrQ1t"
      },
      "source": [
        "# In class exercise 10 (20 points in total, 4/16/2021)"
      ]
    },
    {
      "cell_type": "markdown",
      "metadata": {
        "id": "SjUwzIhXrQ16"
      },
      "source": [
        "The purpose of the exercise is to practice different machine learning algorithms for text clustering\n",
        "Please downlad the dataset by using the following link.  https://www.kaggle.com/PromptCloudHQ/amazon-reviews-unlocked-mobile-phones\n",
        "(You can also use different text data which you want)\n",
        "\n",
        "Apply the listed clustering methods to the dataset:\n",
        "\n",
        "K means, \n",
        "DBSCAN,\n",
        "Hierarchical clustering. \n",
        "\n",
        "You can refer to of the codes from  the follwing link below. \n",
        "https://www.kaggle.com/karthik3890/text-clustering \n",
        "    "
      ]
    },
    {
      "cell_type": "code",
      "metadata": {
        "id": "6MopwlFlrQ1_",
        "colab": {
          "base_uri": "https://localhost:8080/",
          "height": 708
        },
        "outputId": "aafa0cc8-fefb-46a9-f477-79b812a99083"
      },
      "source": [
        "#Write your code here.\n",
        "#cleaning texts\n",
        "from nltk.corpus import stopwords\n",
        "from nltk.tokenize import word_tokenize  \n",
        "import pandas as pd\n",
        "from textblob import Word\n",
        "import numpy as np \n",
        "import matplotlib.pyplot as plt\n",
        "import re\n",
        "import nltk\n",
        "nltk.download('stopwords')\n",
        "nltk.download('punkt')\n",
        "nltk.download('wordnet')\n",
        "stop_words=stopwords.words(\"english\")\n",
        "clean_text_review=[]\n",
        "clean_text=[]\n",
        "df=pd.read_csv(\"/content/Amazon_Unlocked_Mobile.csv\")\n",
        "df=df.dropna() \n",
        "input_df=df.sample(n = 25000)\n",
        "# cleaning the text data\n",
        "input_df['cleaned text review'] = input_df['Reviews'].str.replace(r\"\\W\", \" \").str.strip()# 1.To remove special characters and punctuations\n",
        "input_df['cleaned text review'] = input_df['cleaned text review'].str.replace(r'\\d+',\"\") #2.To remove Numbers\n",
        "input_df['cleaned text review'] = input_df['cleaned text review'].apply(lambda x: \" \".join(x.lower() for x in x.split())) #convert the whole text into lower case\n",
        "input_df['cleaned text review'] = input_df['cleaned text review'].apply(lambda x: \" \".join(x for x in x.split() if x not in stop_words)) #remove all stop words\n",
        "input_df['cleaned text review'] = input_df['cleaned text review'].apply(lambda x: \" \".join([Word(word).lemmatize() for word in x.split()])) #lemmatization\n",
        "#input_df['cleaned text review'] # dataframe column that would be used for further process\n",
        "input_df"
      ],
      "execution_count": 1,
      "outputs": [
        {
          "output_type": "stream",
          "text": [
            "[nltk_data] Downloading package stopwords to /root/nltk_data...\n",
            "[nltk_data]   Unzipping corpora/stopwords.zip.\n",
            "[nltk_data] Downloading package punkt to /root/nltk_data...\n",
            "[nltk_data]   Unzipping tokenizers/punkt.zip.\n",
            "[nltk_data] Downloading package wordnet to /root/nltk_data...\n",
            "[nltk_data]   Unzipping corpora/wordnet.zip.\n"
          ],
          "name": "stdout"
        },
        {
          "output_type": "execute_result",
          "data": {
            "text/html": [
              "<div>\n",
              "<style scoped>\n",
              "    .dataframe tbody tr th:only-of-type {\n",
              "        vertical-align: middle;\n",
              "    }\n",
              "\n",
              "    .dataframe tbody tr th {\n",
              "        vertical-align: top;\n",
              "    }\n",
              "\n",
              "    .dataframe thead th {\n",
              "        text-align: right;\n",
              "    }\n",
              "</style>\n",
              "<table border=\"1\" class=\"dataframe\">\n",
              "  <thead>\n",
              "    <tr style=\"text-align: right;\">\n",
              "      <th></th>\n",
              "      <th>Product Name</th>\n",
              "      <th>Brand Name</th>\n",
              "      <th>Price</th>\n",
              "      <th>Rating</th>\n",
              "      <th>Reviews</th>\n",
              "      <th>Review Votes</th>\n",
              "      <th>cleaned text review</th>\n",
              "    </tr>\n",
              "  </thead>\n",
              "  <tbody>\n",
              "    <tr>\n",
              "      <th>14305</th>\n",
              "      <td>Apple iPhone 4S 32GB Unlocked GSM Smartphone w...</td>\n",
              "      <td>Apple</td>\n",
              "      <td>208.00</td>\n",
              "      <td>5</td>\n",
              "      <td>Everything on time and well done! Thank You. I...</td>\n",
              "      <td>0.0</td>\n",
              "      <td>everything time well done thank would sell whi...</td>\n",
              "    </tr>\n",
              "    <tr>\n",
              "      <th>34582</th>\n",
              "      <td>Apple iPhone 5c 8GB (Yellow) - Verizon Wireless</td>\n",
              "      <td>Apple</td>\n",
              "      <td>179.99</td>\n",
              "      <td>4</td>\n",
              "      <td>Great Phone !</td>\n",
              "      <td>0.0</td>\n",
              "      <td>great phone</td>\n",
              "    </tr>\n",
              "    <tr>\n",
              "      <th>141114</th>\n",
              "      <td>BLU Studio 5.0 Unlocked Dual Sim Phone--U.S. W...</td>\n",
              "      <td>BLU</td>\n",
              "      <td>104.99</td>\n",
              "      <td>4</td>\n",
              "      <td>I was excited when I received the phone. The p...</td>\n",
              "      <td>0.0</td>\n",
              "      <td>excited received phone packaging exciting made...</td>\n",
              "    </tr>\n",
              "    <tr>\n",
              "      <th>47025</th>\n",
              "      <td>Apple iPhone 5s 64GB (Gold) - Verizon Wireless</td>\n",
              "      <td>Apple</td>\n",
              "      <td>239.95</td>\n",
              "      <td>5</td>\n",
              "      <td>OK.</td>\n",
              "      <td>0.0</td>\n",
              "      <td>ok</td>\n",
              "    </tr>\n",
              "    <tr>\n",
              "      <th>202742</th>\n",
              "      <td>Huawei P8 Lite US Version- 5 Unlocked Android ...</td>\n",
              "      <td>Huawei</td>\n",
              "      <td>198.99</td>\n",
              "      <td>5</td>\n",
              "      <td>Great!</td>\n",
              "      <td>0.0</td>\n",
              "      <td>great</td>\n",
              "    </tr>\n",
              "    <tr>\n",
              "      <th>...</th>\n",
              "      <td>...</td>\n",
              "      <td>...</td>\n",
              "      <td>...</td>\n",
              "      <td>...</td>\n",
              "      <td>...</td>\n",
              "      <td>...</td>\n",
              "      <td>...</td>\n",
              "    </tr>\n",
              "    <tr>\n",
              "      <th>254131</th>\n",
              "      <td>Motorola Moto X (2nd generation) Unlocked Cell...</td>\n",
              "      <td>Motorola</td>\n",
              "      <td>279.95</td>\n",
              "      <td>5</td>\n",
              "      <td>Perfect phone, that's what I expected!</td>\n",
              "      <td>0.0</td>\n",
              "      <td>perfect phone expected</td>\n",
              "    </tr>\n",
              "    <tr>\n",
              "      <th>308021</th>\n",
              "      <td>Samsung Galaxy Alpha G850F 32GB Unlocked GSM 4...</td>\n",
              "      <td>Samsung</td>\n",
              "      <td>539.00</td>\n",
              "      <td>5</td>\n",
              "      <td>Excellent Phone. Im very happy with it! Its no...</td>\n",
              "      <td>0.0</td>\n",
              "      <td>excellent phone im happy heavy perfect size gr...</td>\n",
              "    </tr>\n",
              "    <tr>\n",
              "      <th>163549</th>\n",
              "      <td>BLU WIN HD LTE - 5.0\" Windows Smartphone -GSM ...</td>\n",
              "      <td>BLU</td>\n",
              "      <td>109.99</td>\n",
              "      <td>2</td>\n",
              "      <td>the item is good looking, but the bluethooth a...</td>\n",
              "      <td>2.0</td>\n",
              "      <td>item good looking bluethooth wifi available ca...</td>\n",
              "    </tr>\n",
              "    <tr>\n",
              "      <th>116965</th>\n",
              "      <td>BLU Dash X Smartphone - Global GSM Unlocked - ...</td>\n",
              "      <td>BLU</td>\n",
              "      <td>89.00</td>\n",
              "      <td>4</td>\n",
              "      <td>It's a nice phone. Websites load fast, screen ...</td>\n",
              "      <td>0.0</td>\n",
              "      <td>nice phone website load fast screen nice clear...</td>\n",
              "    </tr>\n",
              "    <tr>\n",
              "      <th>29781</th>\n",
              "      <td>Apple iPhone 5c 32GB (Blue) - AT&amp;T</td>\n",
              "      <td>Apple</td>\n",
              "      <td>274.95</td>\n",
              "      <td>3</td>\n",
              "      <td>They Never Mentioned That The Home Button Didn...</td>\n",
              "      <td>0.0</td>\n",
              "      <td>never mentioned home button work contacted rec...</td>\n",
              "    </tr>\n",
              "  </tbody>\n",
              "</table>\n",
              "<p>25000 rows × 7 columns</p>\n",
              "</div>"
            ],
            "text/plain": [
              "                                             Product Name  ...                                cleaned text review\n",
              "14305   Apple iPhone 4S 32GB Unlocked GSM Smartphone w...  ...  everything time well done thank would sell whi...\n",
              "34582     Apple iPhone 5c 8GB (Yellow) - Verizon Wireless  ...                                        great phone\n",
              "141114  BLU Studio 5.0 Unlocked Dual Sim Phone--U.S. W...  ...  excited received phone packaging exciting made...\n",
              "47025      Apple iPhone 5s 64GB (Gold) - Verizon Wireless  ...                                                 ok\n",
              "202742  Huawei P8 Lite US Version- 5 Unlocked Android ...  ...                                              great\n",
              "...                                                   ...  ...                                                ...\n",
              "254131  Motorola Moto X (2nd generation) Unlocked Cell...  ...                             perfect phone expected\n",
              "308021  Samsung Galaxy Alpha G850F 32GB Unlocked GSM 4...  ...  excellent phone im happy heavy perfect size gr...\n",
              "163549  BLU WIN HD LTE - 5.0\" Windows Smartphone -GSM ...  ...  item good looking bluethooth wifi available ca...\n",
              "116965  BLU Dash X Smartphone - Global GSM Unlocked - ...  ...  nice phone website load fast screen nice clear...\n",
              "29781                  Apple iPhone 5c 32GB (Blue) - AT&T  ...  never mentioned home button work contacted rec...\n",
              "\n",
              "[25000 rows x 7 columns]"
            ]
          },
          "metadata": {
            "tags": []
          },
          "execution_count": 1
        }
      ]
    },
    {
      "cell_type": "code",
      "metadata": {
        "id": "1PUk4ymZlpxS"
      },
      "source": [
        "from sklearn.feature_extraction.text import TfidfVectorizer\n",
        "vectorizer = TfidfVectorizer()\n",
        "tfidf_vectors = vectorizer.fit_transform(input_df['cleaned text review'].values)"
      ],
      "execution_count": 2,
      "outputs": []
    },
    {
      "cell_type": "code",
      "metadata": {
        "colab": {
          "base_uri": "https://localhost:8080/",
          "height": 329
        },
        "id": "tOfwnjULlsyJ",
        "outputId": "65b4442f-685a-4ac1-f1f2-aed2945dad02"
      },
      "source": [
        "from sklearn.cluster import KMeans\n",
        "number_of_clusters = [x for x in range(3, 10)]\n",
        "squared_errors = []\n",
        "for cluster in number_of_clusters:\n",
        "    kmeans = KMeans(n_clusters = cluster).fit(tfidf_vectors)\n",
        "    squared_errors.append(kmeans.inertia_)\n",
        "optimal_clusters = np.argmin(squared_errors) + 2 \n",
        "plt.plot(number_of_clusters, squared_errors)\n",
        "plt.title(\"Elbow Curve to find the no. of clusters.\")\n",
        "plt.xlabel(\"Number of clusters.\")\n",
        "plt.ylabel(\"Squared Loss.\")\n",
        "xy = (optimal_clusters, min(squared_errors))\n",
        "plt.annotate('(%s, %s)' % xy, xy = xy, textcoords='data')\n",
        "plt.show()\n",
        "\n",
        "print (\"The optimal number of clusters obtained is - \", optimal_clusters)\n",
        "print (\"The loss for optimal cluster is - \", min(squared_errors))"
      ],
      "execution_count": 3,
      "outputs": [
        {
          "output_type": "display_data",
          "data": {
            "image/png": "[encoded data removed]",
            "text/plain": [
              "<Figure size 432x288 with 1 Axes>"
            ]
          },
          "metadata": {
            "tags": [],
            "needs_background": "light"
          }
        },
        {
          "output_type": "stream",
          "text": [
            "The optimal number of clusters obtained is -  8\n",
            "The loss for optimal cluster is -  21635.861081498457\n"
          ],
          "name": "stdout"
        }
      ]
    },
    {
      "cell_type": "code",
      "metadata": {
        "colab": {
          "base_uri": "https://localhost:8080/",
          "height": 1000
        },
        "id": "DGMU6YKnl3Zi",
        "outputId": "c7a64ee6-c64f-4910-b837-951265a4a3c8"
      },
      "source": [
        "#now from above we can obtain the best or optimal K value\n",
        "#Apply the k means clustering with optimal k \n",
        "optimal_k = 8\n",
        "model = KMeans(n_clusters = optimal_k)\n",
        "model.fit(tfidf_vectors)\n",
        "\n",
        "model_labels = model.labels_\n",
        "cluster_centers = model.cluster_centers_\n",
        "terms = vectorizer.get_feature_names()\n",
        "\n",
        "from sklearn import metrics\n",
        "silhouette_score = metrics.silhouette_score(tfidf_vectors, model_labels, metric='euclidean')\n",
        "print('The Silhouette Score is: ', silhouette_score)\n",
        "\n",
        "# Assigning each review to a cluster\n",
        "input_df['Kmeans_Cluster Labels'] = model_labels\n",
        "\n",
        "# Finding the number of reviews in each cluster\n",
        "print(input_df.groupby(['Kmeans_Cluster Labels'])['Reviews'].count())\n",
        "\n",
        "# Finding the top 10 features of each cluster centriod\n",
        "print(\"Top terms per cluster:\")\n",
        "order_centroids = model.cluster_centers_.argsort()[:, ::-1]\n",
        "for i in range(optimal_k):\n",
        "    print(\"Cluster %d:\" % i, end='')\n",
        "    for ind in order_centroids[i, :optimal_k]:\n",
        "        print(' %s' % terms[ind], end='')\n",
        "        print()\n",
        "\n",
        "# Visualizing how reviews are distributed across the clusters \n",
        "plt.bar([x for x in range(optimal_k)], input_df.groupby(['Kmeans_Cluster Labels'])['Reviews'].count(),alpha = 0.4)\n",
        "plt.title('KMeans cluster points')\n",
        "plt.xlabel(\"Cluster number\")\n",
        "plt.ylabel(\"Number of points\")\n",
        "plt.show()"
      ],
      "execution_count": 4,
      "outputs": [
        {
          "output_type": "stream",
          "text": [
            "The Silhouette Score is:  0.05743756931703527\n",
            "Kmeans_Cluster Labels\n",
            "0      443\n",
            "1      590\n",
            "2      747\n",
            "3     1060\n",
            "4     1027\n",
            "5     9798\n",
            "6      604\n",
            "7    10731\n",
            "Name: Reviews, dtype: int64\n",
            "Top terms per cluster:\n",
            "Cluster 0: excelente\n",
            " producto\n",
            " gracias\n",
            " telefono\n",
            " recomendado\n",
            " teléfono\n",
            " recommended\n",
            " servicio\n",
            "Cluster 1: perfect\n",
            " ok\n",
            " everything\n",
            " condition\n",
            " phone\n",
            " work\n",
            " product\n",
            " thanks\n",
            "Cluster 2: excellent\n",
            " product\n",
            " phone\n",
            " condition\n",
            " recommended\n",
            " price\n",
            " recommend\n",
            " love\n",
            "Cluster 3: good\n",
            " phone\n",
            " product\n",
            " price\n",
            " far\n",
            " work\n",
            " item\n",
            " thanks\n",
            "Cluster 4: great\n",
            " phone\n",
            " work\n",
            " product\n",
            " price\n",
            " condition\n",
            " buy\n",
            " fast\n",
            "Cluster 5: phone\n",
            " great\n",
            " good\n",
            " work\n",
            " one\n",
            " like\n",
            " use\n",
            " screen\n",
            "Cluster 6: love\n",
            " phone\n",
            " great\n",
            " daughter\n",
            " new\n",
            " wife\n",
            " son\n",
            " iphone\n",
            "Cluster 7: work\n",
            " product\n",
            " good\n",
            " nice\n",
            " like\n",
            " excelent\n",
            " great\n",
            " phone\n"
          ],
          "name": "stdout"
        },
        {
          "output_type": "display_data",
          "data": {
            "image/png": "[encoded data removed]",
            "text/plain": [
              "<Figure size 432x288 with 1 Axes>"
            ]
          },
          "metadata": {
            "tags": [],
            "needs_background": "light"
          }
        }
      ]
    },
    {
      "cell_type": "code",
      "metadata": {
        "id": "sESDbgAQmDiz"
      },
      "source": [
        "#DBSCAN\n",
        "import gensim\n",
        "import numpy as np\n",
        "from sklearn.cluster import DBSCAN\n",
        "# Computing 200th Nearest neighbour distance\n",
        "minPts = 2 * 100\n",
        "def lower_bound(nums, target): # This function return the number in the array just greater than or equal to itself.\n",
        "    l, r = 0, len(nums) - 1\n",
        "    while l <= r: # Binary searching.\n",
        "        mid = int(l + (r - l) / 2)\n",
        "        if nums[mid] >= target:\n",
        "            r = mid - 1\n",
        "        else:\n",
        "            l = mid + 1\n",
        "    return l\n",
        "\n",
        "def compute200thnearestneighbour(x, data): # Returns the distance of 200th nearest neighbour.\n",
        "    dists = []\n",
        "    for val in data:\n",
        "        dist = np.sum((x - val) **2 ) # computing distances.\n",
        "        if(len(dists) == 200 and dists[199] > dist): # If distance is larger than current largest distance found.\n",
        "            l = int(lower_bound(dists, dist)) # Using the lower bound function to get the right position.\n",
        "            if l < 200 and l >= 0 and dists[l] > dist:\n",
        "                dists[l] = dist\n",
        "        else:\n",
        "            dists.append(dist)\n",
        "            dists.sort()\n",
        "    \n",
        "    return dists[199] # Dist 199 contains the distance of 200th nearest neighbour."
      ],
      "execution_count": 5,
      "outputs": []
    },
    {
      "cell_type": "code",
      "metadata": {
        "colab": {
          "base_uri": "https://localhost:8080/"
        },
        "id": "GwFgKoaCmg12",
        "outputId": "4357d223-5cd2-4d44-9e38-ac1bbaf1a407"
      },
      "source": [
        "# Just like Kmeans where we found optimal-k, find optimal epsilon\n",
        "#creating text corpus\n",
        "review_list= []\n",
        "for review in input_df['cleaned text review'].values:\n",
        "    review_list.append(review.split())\n",
        "\n",
        "# Training the wor2vec model using train dataset\n",
        "w2v_model=gensim.models.Word2Vec(review_list,size=100, workers=4)\n",
        "\n",
        "review_vectors = []; # the avg-w2v for each sentence/review is stored in this train\n",
        "for review in review_list: # for each review/sentence\n",
        "    review_vec = np.zeros(100) # as word vectors are of zero length\n",
        "    cnt_words =0; # num of words with a valid vector in the sentence/review\n",
        "    for word in review: # for each word in a review/sentence\n",
        "        try:\n",
        "            vec = w2v_model.wv[word]\n",
        "            review_vec += vec\n",
        "            cnt_words += 1\n",
        "        except:\n",
        "            pass\n",
        "    review_vec /= cnt_words\n",
        "    review_vectors.append(review_vec)\n",
        "review_vectors = np.array(review_vectors)\n",
        "review_vectors = np.nan_to_num(review_vectors)\n",
        "review_vectors.shape"
      ],
      "execution_count": 6,
      "outputs": [
        {
          "output_type": "stream",
          "text": [
            "/usr/local/lib/python3.7/dist-packages/ipykernel_launcher.py:21: RuntimeWarning: invalid value encountered in true_divide\n"
          ],
          "name": "stderr"
        },
        {
          "output_type": "execute_result",
          "data": {
            "text/plain": [
              "(25000, 100)"
            ]
          },
          "metadata": {
            "tags": []
          },
          "execution_count": 6
        }
      ]
    },
    {
      "cell_type": "code",
      "metadata": {
        "colab": {
          "base_uri": "https://localhost:8080/",
          "height": 295
        },
        "id": "QZvH9h3gmhmp",
        "outputId": "e28bb812-ed65-471e-ecab-7f9fccea8b56"
      },
      "source": [
        "# Computing the 200th nearest neighbour distance of some point the dataset:\n",
        "twohundrethneigh = []\n",
        "for val in review_vectors[:1500]:\n",
        "    twohundrethneigh.append( compute200thnearestneighbour(val, review_vectors[:1500]) )\n",
        "twohundrethneigh.sort()\n",
        "# Plotting for the Elbow Method :\n",
        "plt.figure(figsize=(14,4))\n",
        "plt.title(\"Elbow Method for Finding the right Eps hyperparameter\")\n",
        "plt.plot([x for x in range(len(twohundrethneigh))], twohundrethneigh)\n",
        "plt.xlabel(\"Number of points\")\n",
        "plt.ylabel(\"Distance of 200th Nearest Neighbour\")\n",
        "plt.show()"
      ],
      "execution_count": 7,
      "outputs": [
        {
          "output_type": "display_data",
          "data": {
            "image/png": "[encoded data removed]",
            "text/plain": [
              "<Figure size 1008x288 with 1 Axes>"
            ]
          },
          "metadata": {
            "tags": [],
            "needs_background": "light"
          }
        }
      ]
    },
    {
      "cell_type": "code",
      "metadata": {
        "colab": {
          "base_uri": "https://localhost:8080/"
        },
        "id": "Z-uzDwSYp8gK",
        "outputId": "6fbe22dc-c8ed-4e37-e5c1-c24cd3191445"
      },
      "source": [
        "# Applying the DBSCAN clustering using optimal epsilon.\n",
        "from sklearn.cluster import DBSCAN\n",
        "dbscan = DBSCAN(eps = 15, min_samples = minPts).fit(review_vectors)\n",
        "\n",
        "# Assigning each review to a cluster\n",
        "input_df['DBSCAN_Cluster Labels'] = dbscan.labels_\n",
        "\n",
        "# Finding the number of reviews in each cluster\n",
        "print(input_df.groupby(['DBSCAN_Cluster Labels'])['Reviews'].count())"
      ],
      "execution_count": 8,
      "outputs": [
        {
          "output_type": "stream",
          "text": [
            "DBSCAN_Cluster Labels\n",
            "0    25000\n",
            "Name: Reviews, dtype: int64\n"
          ],
          "name": "stdout"
        }
      ]
    },
    {
      "cell_type": "code",
      "metadata": {
        "colab": {
          "base_uri": "https://localhost:8080/",
          "height": 288
        },
        "id": "afFL7P11p9fY",
        "outputId": "0f58f88b-a83d-4e91-9652-a387a1fff489"
      },
      "source": [
        "#hierarchy clustering\n",
        "import scipy\n",
        "from scipy.cluster import hierarchy\n",
        "dendro=hierarchy.dendrogram(hierarchy.linkage(review_vectors,method='ward'))\n",
        "plt.axhline(y=100)# cut at 100"
      ],
      "execution_count": 9,
      "outputs": [
        {
          "output_type": "execute_result",
          "data": {
            "text/plain": [
              "<matplotlib.lines.Line2D at 0x7f2667fa1d90>"
            ]
          },
          "metadata": {
            "tags": []
          },
          "execution_count": 9
        },
        {
          "output_type": "display_data",
          "data": {
            "image/png": "[encoded data removed]",
            "text/plain": [
              "<Figure size 432x288 with 1 Axes>"
            ]
          },
          "metadata": {
            "tags": [],
            "needs_background": "light"
          }
        }
      ]
    },
    {
      "cell_type": "code",
      "metadata": {
        "colab": {
          "base_uri": "https://localhost:8080/"
        },
        "id": "roSe0e0qqDcC",
        "outputId": "8bea760b-f2bb-4584-ba77-9701310e063d"
      },
      "source": [
        "#applying aggomerative method with 7 clusters\n",
        " #took n_cluster=6 from dendrogram curve \n",
        "from sklearn.cluster import AgglomerativeClustering \n",
        "h_clustering = AgglomerativeClustering(n_clusters=7, affinity='euclidean', linkage='ward') \n",
        "Agg=h_clustering.fit_predict(review_vectors)\n",
        "labels= h_clustering.labels_\n",
        "# Adding a column for hierarichial labels in dataset, assigning labels to each review like before\n",
        "input_df['Hierarchical_Cluster Labels'] = labels\n",
        "# Finding the number of reviews in each cluster\n",
        "input_df.groupby(['Hierarchical_Cluster Labels'])['Reviews'].count()"
      ],
      "execution_count": 10,
      "outputs": [
        {
          "output_type": "execute_result",
          "data": {
            "text/plain": [
              "Hierarchical_Cluster Labels\n",
              "0    8027\n",
              "1    2572\n",
              "2    1749\n",
              "3    1211\n",
              "4    8827\n",
              "5     945\n",
              "6    1669\n",
              "Name: Reviews, dtype: int64"
            ]
          },
          "metadata": {
            "tags": []
          },
          "execution_count": 10
        }
      ]
    },
    {
      "cell_type": "markdown",
      "metadata": {
        "id": "l4oXp_ucrQ2A"
      },
      "source": [
        "In one paragraph, please compare K means, DBSCAN and Hierarchical clustering. "
      ]
    },
    {
      "cell_type": "markdown",
      "metadata": {
        "id": "KmhszA2tuyQN"
      },
      "source": [
        "\n",
        "Hierarchical clustering, as the name suggests is an algorithm that builds hierarchy of clusters.It gives us information also about clusters within clusters.\n",
        "K-means is a centroid-based clustering algorithm. This algorithm partitions all the points in the sample into K groups of similarity. DBScan is a density-based clustering algorithm. The key factor is the neighbourhood of each point in a cluster which is within a given radius.\n",
        "\n",
        "For my analysis, K means is most efficient and flexible comparatively."
      ]
    }
  ]
}