{
  "nbformat": 4,
  "nbformat_minor": 0,
  "metadata": {
    "kernelspec": {
      "display_name": "Python 3",
      "language": "python",
      "name": "python3"
    },
    "language_info": {
      "codemirror_mode": {
        "name": "ipython",
        "version": 3
      },
      "file_extension": ".py",
      "mimetype": "text/x-python",
      "name": "python",
      "nbconvert_exporter": "python",
      "pygments_lexer": "ipython3",
      "version": "3.7.4"
    },
    "colab": {
      "name": "In-class-exercise-03.ipynb",
      "provenance": [],
      "toc_visible": true,
      "include_colab_link": true
    }
  },
  "cells": [
    {
      "cell_type": "markdown",
      "metadata": {
        "id": "view-in-github",
        "colab_type": "text"
      },
      "source": [
        "<a href=\"https://colab.research.google.com/github/srivarshini-pratapaneni/srivarshini_INFO5731_spring2021/blob/main/In_class_exercise_03.ipynb\" target=\"_parent\"><img src=\"https://colab.research.google.com/assets/colab-badge.svg\" alt=\"Open In Colab\"/></a>"
      ]
    },
    {
      "cell_type": "markdown",
      "metadata": {
        "id": "XKjwZr6iX5_o"
      },
      "source": [
        "## The third In-class-exercise (9/16/2020, 20 points in total)"
      ]
    },
    {
      "cell_type": "markdown",
      "metadata": {
        "id": "x0ZCRRJxX5_s"
      },
      "source": [
        "The purpose of this exercise is to under users' information needs, then collect the data for analysis."
      ]
    },
    {
      "cell_type": "markdown",
      "metadata": {
        "id": "AONDltDOX5_u"
      },
      "source": [
        "Question 1 (8 points): Describe an interesting research question (or practical question) you have in mind, what kind of data should be collected to answer the question(s)? How many data needed for the analysis? The detail steps for collecting and save the data. "
      ]
    },
    {
      "cell_type": "code",
      "metadata": {
        "colab": {
          "base_uri": "https://localhost:8080/",
          "height": 171
        },
        "id": "KQzMLYEoX5_v",
        "outputId": "f1b7a2f0-6711-4ff2-8a95-08273fffc4df"
      },
      "source": [
        "# Your answer here (no code for this question, write down your answer as detail as possible for the above questions):\n",
        "\n",
        "'''\n",
        "Please write you answer here:\n",
        "*Whenever i was into some good mood to read books i always get confused to order books. I will be searching different websites for the availabilty and cost.\n",
        "*Hence, for this assignment i thought why dont i try something new, where the books with five star rating will be available and their cost is also available.\n",
        "so, all the thing that need to be done for this is\n",
        "1)Zoner of book\n",
        "2)cost of book\n",
        "3) title of book\n",
        "4)rating of the book\n",
        "these need to be collected. so as only books with five star rating will be considered to be user friendly.\n",
        "*For this analysis, we do need much amount of data as thy need to be categorised into 1,2,3,4,5 stars of rating.\n",
        "For this assignmnet i have considered 1000 books.\n",
        "*The data will be collected from the websites from many references and the steps are\n",
        "1)find the url that you want to scrape\n",
        "2)inspect the Page.\n",
        "3)find the data need to be extracted \n",
        "4)Write the code.\n",
        "5)Run the code & extract the data.\n",
        "6)store the data in the required format.\n",
        "* Here, i am storing my output into a comma seperated file.\n",
        "\n",
        "\n",
        "\n",
        "'''"
      ],
      "execution_count": 18,
      "outputs": [
        {
          "output_type": "execute_result",
          "data": {
            "application/vnd.google.colaboratory.intrinsic+json": {
              "type": "string"
            },
            "text/plain": [
              "'\\nPlease write you answer here:\\n*Whenever i was into some good mood to read books i always get confused to order books. I will be searching different websites for the availabilty and cost.\\n*Hence, for this assignment i thought why dont i try something new, where the books with five star rating will be available and their cost is also available.\\nso, all the thing that need to be done for this is\\n1)Zoner of book\\n2)cost of book\\n3) title of book\\n4)rating of the book\\nthese need to be collected. so as only books with five star rating will be considered to be user friendly.\\n*For this analysis, we do need much amount of data as thy need to be categorised into 1,2,3,4,5 stars of rating.\\nFor this assignmnet i have considered 1000 books.\\n*The data will be collected from the websites from many references and the steps are\\n1)find the url that you want to scrape\\n2)inspect the Page.\\n3)find the data need to be extracted \\n4)Write the code.\\n5)Run the code & extract the data.\\n6)store the data in the required format.\\n* Here, i am storing my output into a comma seperated file.\\n\\n\\n\\n'"
            ]
          },
          "metadata": {
            "tags": []
          },
          "execution_count": 18
        }
      ]
    },
    {
      "cell_type": "markdown",
      "metadata": {
        "id": "BukpkDh0X5_w"
      },
      "source": [
        "Question 2 (12 points): Write python code to collect 500 items of the data you plan to collect above."
      ]
    },
    {
      "cell_type": "code",
      "metadata": {
        "colab": {
          "base_uri": "https://localhost:8080/"
        },
        "id": "dwG5hwn0X5_y",
        "outputId": "8195252a-cc64-4f68-d3d2-011ecf1989d6"
      },
      "source": [
        "# You code here (Please add comments in the code):\n",
        "\n",
        "from urllib.request import urlopen as uReq\n",
        "from bs4 import BeautifulSoup as soup\n",
        "#the url from which scrapping is being done\n",
        "myurl='http://books.toscrape.com/index.html'\n",
        "uClient = uReq(myurl) \n",
        "page_html = uClient.read() \n",
        "uClient.close() \n",
        "#beautiful soup for parse tree that parses the web pages required for the result\n",
        "page_soup = soup(page_html, \"html.parser\") \n",
        "bookshelf = page_soup.findAll(\"li\", {\"class\": \"col-xs-6 col-sm-4 col-md-3 col-lg-3\"})\n",
        "filename = (\"Sample.csv\") \n",
        "f = open(filename, \"w\") \n",
        "headers = \"Book title, Price\\n\"\n",
        "f.write(headers) \n",
        "\n",
        "for books in bookshelf: \n",
        "  book_title = books.h3.a[\"title\"] \n",
        "  book_price = books.findAll(\"p\", {\"class\": \"price_color\"}) \n",
        "  price = book_price[0].text.strip()\n",
        "  #this loop helps to print the data in the web pages.\n",
        "  print(\"name of book :\" + book_title) \n",
        "  print(\"Its cost :\" + price) \n",
        "  f.write(book_title + \",\" + price+\"\\n\") \n",
        "f.close()"
      ],
      "execution_count": 20,
      "outputs": [
        {
          "output_type": "stream",
          "text": [
            "name of book :A Light in the Attic\n",
            "Its cost :£51.77\n",
            "name of book :Tipping the Velvet\n",
            "Its cost :£53.74\n",
            "name of book :Soumission\n",
            "Its cost :£50.10\n",
            "name of book :Sharp Objects\n",
            "Its cost :£47.82\n",
            "name of book :Sapiens: A Brief History of Humankind\n",
            "Its cost :£54.23\n",
            "name of book :The Requiem Red\n",
            "Its cost :£22.65\n",
            "name of book :The Dirty Little Secrets of Getting Your Dream Job\n",
            "Its cost :£33.34\n",
            "name of book :The Coming Woman: A Novel Based on the Life of the Infamous Feminist, Victoria Woodhull\n",
            "Its cost :£17.93\n",
            "name of book :The Boys in the Boat: Nine Americans and Their Epic Quest for Gold at the 1936 Berlin Olympics\n",
            "Its cost :£22.60\n",
            "name of book :The Black Maria\n",
            "Its cost :£52.15\n",
            "name of book :Starving Hearts (Triangular Trade Trilogy, #1)\n",
            "Its cost :£13.99\n",
            "name of book :Shakespeare's Sonnets\n",
            "Its cost :£20.66\n",
            "name of book :Set Me Free\n",
            "Its cost :£17.46\n",
            "name of book :Scott Pilgrim's Precious Little Life (Scott Pilgrim #1)\n",
            "Its cost :£52.29\n",
            "name of book :Rip it Up and Start Again\n",
            "Its cost :£35.02\n",
            "name of book :Our Band Could Be Your Life: Scenes from the American Indie Underground, 1981-1991\n",
            "Its cost :£57.25\n",
            "name of book :Olio\n",
            "Its cost :£23.88\n",
            "name of book :Mesaerion: The Best Science Fiction Stories 1800-1849\n",
            "Its cost :£37.59\n",
            "name of book :Libertarianism for Beginners\n",
            "Its cost :£51.33\n",
            "name of book :It's Only the Himalayas\n",
            "Its cost :£45.17\n"
          ],
          "name": "stdout"
        }
      ]
    }
  ]
}